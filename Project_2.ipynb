{
 "cells": [
  {
   "cell_type": "markdown",
   "metadata": {},
   "source": [
    "## Q 1.1\n",
    "As in every good data analysis, you should start to explore the data. There is a bunch of things to look at, \n",
    "### Task 1\n",
    "\n",
    "- Are there missing values? Look on the website of the data to see how missing values are coded.\n",
    "- Compute the means and variances of the features (visualise in a histogram or with a kernel density estimate). Do they vary widely?\n",
    "- Are there constant features?"
   ]
  },
  {
   "cell_type": "code",
   "execution_count": 2,
   "metadata": {},
   "outputs": [],
   "source": [
    "import pandas as pd\n",
    "\n",
    "data = pd.read_csv('TCGA-PANCAN-HiSeq-801x20531\\data.csv', index_col=0)\n",
    "labels = pd.read_csv('TCGA-PANCAN-HiSeq-801x20531\\labels.csv', index_col=0)"
   ]
  },
  {
   "cell_type": "code",
   "execution_count": 3,
   "metadata": {},
   "outputs": [
    {
     "data": {
      "text/html": [
       "<div>\n",
       "<style scoped>\n",
       "    .dataframe tbody tr th:only-of-type {\n",
       "        vertical-align: middle;\n",
       "    }\n",
       "\n",
       "    .dataframe tbody tr th {\n",
       "        vertical-align: top;\n",
       "    }\n",
       "\n",
       "    .dataframe thead th {\n",
       "        text-align: right;\n",
       "    }\n",
       "</style>\n",
       "<table border=\"1\" class=\"dataframe\">\n",
       "  <thead>\n",
       "    <tr style=\"text-align: right;\">\n",
       "      <th></th>\n",
       "      <th>gene_0</th>\n",
       "      <th>gene_1</th>\n",
       "      <th>gene_2</th>\n",
       "      <th>gene_3</th>\n",
       "      <th>gene_4</th>\n",
       "      <th>gene_5</th>\n",
       "      <th>gene_6</th>\n",
       "      <th>gene_7</th>\n",
       "      <th>gene_8</th>\n",
       "      <th>gene_9</th>\n",
       "      <th>...</th>\n",
       "      <th>gene_20521</th>\n",
       "      <th>gene_20522</th>\n",
       "      <th>gene_20523</th>\n",
       "      <th>gene_20524</th>\n",
       "      <th>gene_20525</th>\n",
       "      <th>gene_20526</th>\n",
       "      <th>gene_20527</th>\n",
       "      <th>gene_20528</th>\n",
       "      <th>gene_20529</th>\n",
       "      <th>gene_20530</th>\n",
       "    </tr>\n",
       "  </thead>\n",
       "  <tbody>\n",
       "  </tbody>\n",
       "</table>\n",
       "<p>0 rows × 20531 columns</p>\n",
       "</div>"
      ],
      "text/plain": [
       "Empty DataFrame\n",
       "Columns: [gene_0, gene_1, gene_2, gene_3, gene_4, gene_5, gene_6, gene_7, gene_8, gene_9, gene_10, gene_11, gene_12, gene_13, gene_14, gene_15, gene_16, gene_17, gene_18, gene_19, gene_20, gene_21, gene_22, gene_23, gene_24, gene_25, gene_26, gene_27, gene_28, gene_29, gene_30, gene_31, gene_32, gene_33, gene_34, gene_35, gene_36, gene_37, gene_38, gene_39, gene_40, gene_41, gene_42, gene_43, gene_44, gene_45, gene_46, gene_47, gene_48, gene_49, gene_50, gene_51, gene_52, gene_53, gene_54, gene_55, gene_56, gene_57, gene_58, gene_59, gene_60, gene_61, gene_62, gene_63, gene_64, gene_65, gene_66, gene_67, gene_68, gene_69, gene_70, gene_71, gene_72, gene_73, gene_74, gene_75, gene_76, gene_77, gene_78, gene_79, gene_80, gene_81, gene_82, gene_83, gene_84, gene_85, gene_86, gene_87, gene_88, gene_89, gene_90, gene_91, gene_92, gene_93, gene_94, gene_95, gene_96, gene_97, gene_98, gene_99, ...]\n",
       "Index: []\n",
       "\n",
       "[0 rows x 20531 columns]"
      ]
     },
     "execution_count": 3,
     "metadata": {},
     "output_type": "execute_result"
    }
   ],
   "source": [
    "import numpy as np\n",
    "\n",
    "data[~data.applymap(np.isreal).all(1)]\n"
   ]
  },
  {
   "cell_type": "markdown",
   "metadata": {},
   "source": [
    "The UCI website said \"N/A\" for missing values, so I presume there are no missing values. As we can see above all features in the imported data are real valued, and there are no missing labels either."
   ]
  },
  {
   "cell_type": "code",
   "execution_count": 46,
   "metadata": {},
   "outputs": [
    {
     "name": "stdout",
     "output_type": "stream",
     "text": [
      "Min var: 0.0\n",
      "# of features with var=0: 267\n",
      "Max var: 44.76384922341962\n"
     ]
    },
    {
     "data": {
      "image/png": "[encoded data removed]",
      "text/plain": [
       "<Figure size 864x432 with 2 Axes>"
      ]
     },
     "metadata": {
      "needs_background": "light"
     },
     "output_type": "display_data"
    }
   ],
   "source": [
    "import matplotlib.pyplot as plt\n",
    "\n",
    "fig, axs = plt.subplots(nrows=1, ncols=2, figsize=(12,6))\n",
    "axs[0].hist(data.mean())\n",
    "axs[0].set_title('Mean')\n",
    "\n",
    "axs[1].hist(data.var())\n",
    "axs[1].set_title('Variance')\n",
    "axs[1].set_yscale('log')\n",
    "\n",
    "print(f'Min var: {data.var().min()}')\n",
    "print(f'# of features with var=0: {(data.var()==0).sum()}')\n",
    "print(f'Max var: {data.var().max()}')"
   ]
  },
  {
   "cell_type": "markdown",
   "metadata": {},
   "source": [
    "The means of the features vary as we see in the above plot. Most features seem to have means close to 0 or around 10. The variances are generally low, but go as high as 44.76 for the feature with the highest variance. The amount of features that exhibit high variance like this decrease exponentially with variance however, so they are quite rare comparatively. I also found 267 constant features (with 0 variance)."
   ]
  },
  {
   "cell_type": "markdown",
   "metadata": {},
   "source": [
    "### Task 2\n",
    "- Perform variance filtering and reduce the number of features to about 5000.\n",
    "- Check the means and variances for each feature again. Is there a need to center and standardize the data?"
   ]
  },
  {
   "cell_type": "code",
   "execution_count": 67,
   "metadata": {},
   "outputs": [
    {
     "name": "stdout",
     "output_type": "stream",
     "text": [
      "5587\n"
     ]
    },
    {
     "data": {
      "text/html": [
       "<div>\n",
       "<style scoped>\n",
       "    .dataframe tbody tr th:only-of-type {\n",
       "        vertical-align: middle;\n",
       "    }\n",
       "\n",
       "    .dataframe tbody tr th {\n",
       "        vertical-align: top;\n",
       "    }\n",
       "\n",
       "    .dataframe thead th {\n",
       "        text-align: right;\n",
       "    }\n",
       "</style>\n",
       "<table border=\"1\" class=\"dataframe\">\n",
       "  <thead>\n",
       "    <tr style=\"text-align: right;\">\n",
       "      <th></th>\n",
       "      <th>gene_18</th>\n",
       "      <th>gene_21</th>\n",
       "      <th>gene_26</th>\n",
       "      <th>gene_28</th>\n",
       "      <th>gene_29</th>\n",
       "      <th>gene_30</th>\n",
       "      <th>gene_31</th>\n",
       "      <th>gene_33</th>\n",
       "      <th>gene_39</th>\n",
       "      <th>gene_44</th>\n",
       "      <th>...</th>\n",
       "      <th>gene_20466</th>\n",
       "      <th>gene_20472</th>\n",
       "      <th>gene_20476</th>\n",
       "      <th>gene_20484</th>\n",
       "      <th>gene_20490</th>\n",
       "      <th>gene_20500</th>\n",
       "      <th>gene_20504</th>\n",
       "      <th>gene_20514</th>\n",
       "      <th>gene_20524</th>\n",
       "      <th>gene_20529</th>\n",
       "    </tr>\n",
       "  </thead>\n",
       "  <tbody>\n",
       "    <tr>\n",
       "      <th>sample_0</th>\n",
       "      <td>0.591871</td>\n",
       "      <td>0.000000</td>\n",
       "      <td>7.215116</td>\n",
       "      <td>6.620204</td>\n",
       "      <td>9.513538</td>\n",
       "      <td>0.0</td>\n",
       "      <td>4.063658</td>\n",
       "      <td>4.747656</td>\n",
       "      <td>0.000000</td>\n",
       "      <td>1.010279</td>\n",
       "      <td>...</td>\n",
       "      <td>4.377061</td>\n",
       "      <td>1.010279</td>\n",
       "      <td>9.175285</td>\n",
       "      <td>2.717803</td>\n",
       "      <td>0.000000</td>\n",
       "      <td>5.902800</td>\n",
       "      <td>2.602077</td>\n",
       "      <td>7.128881</td>\n",
       "      <td>7.220030</td>\n",
       "      <td>5.286759</td>\n",
       "    </tr>\n",
       "    <tr>\n",
       "      <th>sample_1</th>\n",
       "      <td>0.000000</td>\n",
       "      <td>0.000000</td>\n",
       "      <td>9.949812</td>\n",
       "      <td>1.174790</td>\n",
       "      <td>4.926991</td>\n",
       "      <td>0.0</td>\n",
       "      <td>0.000000</td>\n",
       "      <td>1.327170</td>\n",
       "      <td>0.811142</td>\n",
       "      <td>2.651224</td>\n",
       "      <td>...</td>\n",
       "      <td>2.530820</td>\n",
       "      <td>0.587845</td>\n",
       "      <td>0.000000</td>\n",
       "      <td>4.516185</td>\n",
       "      <td>4.008227</td>\n",
       "      <td>1.004394</td>\n",
       "      <td>0.811142</td>\n",
       "      <td>6.047558</td>\n",
       "      <td>6.256586</td>\n",
       "      <td>2.094168</td>\n",
       "    </tr>\n",
       "    <tr>\n",
       "      <th>sample_2</th>\n",
       "      <td>1.683023</td>\n",
       "      <td>3.660427</td>\n",
       "      <td>6.096650</td>\n",
       "      <td>7.680507</td>\n",
       "      <td>3.119439</td>\n",
       "      <td>0.0</td>\n",
       "      <td>0.452595</td>\n",
       "      <td>0.000000</td>\n",
       "      <td>0.452595</td>\n",
       "      <td>0.000000</td>\n",
       "      <td>...</td>\n",
       "      <td>6.172313</td>\n",
       "      <td>0.000000</td>\n",
       "      <td>8.834108</td>\n",
       "      <td>6.535353</td>\n",
       "      <td>2.337254</td>\n",
       "      <td>0.000000</td>\n",
       "      <td>5.014445</td>\n",
       "      <td>6.661493</td>\n",
       "      <td>5.401607</td>\n",
       "      <td>1.683023</td>\n",
       "    </tr>\n",
       "    <tr>\n",
       "      <th>sample_3</th>\n",
       "      <td>1.267356</td>\n",
       "      <td>0.000000</td>\n",
       "      <td>3.913761</td>\n",
       "      <td>6.469165</td>\n",
       "      <td>7.029895</td>\n",
       "      <td>0.0</td>\n",
       "      <td>1.267356</td>\n",
       "      <td>7.742714</td>\n",
       "      <td>0.434882</td>\n",
       "      <td>1.931418</td>\n",
       "      <td>...</td>\n",
       "      <td>6.318335</td>\n",
       "      <td>0.000000</td>\n",
       "      <td>7.529188</td>\n",
       "      <td>4.466457</td>\n",
       "      <td>0.434882</td>\n",
       "      <td>5.075383</td>\n",
       "      <td>6.233192</td>\n",
       "      <td>7.613915</td>\n",
       "      <td>8.942805</td>\n",
       "      <td>3.292001</td>\n",
       "    </tr>\n",
       "    <tr>\n",
       "      <th>sample_4</th>\n",
       "      <td>0.889707</td>\n",
       "      <td>0.000000</td>\n",
       "      <td>1.942120</td>\n",
       "      <td>5.861429</td>\n",
       "      <td>7.755709</td>\n",
       "      <td>0.0</td>\n",
       "      <td>0.649386</td>\n",
       "      <td>2.612801</td>\n",
       "      <td>0.649386</td>\n",
       "      <td>0.000000</td>\n",
       "      <td>...</td>\n",
       "      <td>6.775999</td>\n",
       "      <td>5.370398</td>\n",
       "      <td>7.647883</td>\n",
       "      <td>0.889707</td>\n",
       "      <td>2.045093</td>\n",
       "      <td>3.954001</td>\n",
       "      <td>4.586531</td>\n",
       "      <td>6.505099</td>\n",
       "      <td>7.181162</td>\n",
       "      <td>5.110372</td>\n",
       "    </tr>\n",
       "  </tbody>\n",
       "</table>\n",
       "<p>5 rows × 5587 columns</p>\n",
       "</div>"
      ],
      "text/plain": [
       "           gene_18   gene_21   gene_26   gene_28   gene_29  gene_30   gene_31  \\\n",
       "sample_0  0.591871  0.000000  7.215116  6.620204  9.513538      0.0  4.063658   \n",
       "sample_1  0.000000  0.000000  9.949812  1.174790  4.926991      0.0  0.000000   \n",
       "sample_2  1.683023  3.660427  6.096650  7.680507  3.119439      0.0  0.452595   \n",
       "sample_3  1.267356  0.000000  3.913761  6.469165  7.029895      0.0  1.267356   \n",
       "sample_4  0.889707  0.000000  1.942120  5.861429  7.755709      0.0  0.649386   \n",
       "\n",
       "           gene_33   gene_39   gene_44  ...  gene_20466  gene_20472  \\\n",
       "sample_0  4.747656  0.000000  1.010279  ...    4.377061    1.010279   \n",
       "sample_1  1.327170  0.811142  2.651224  ...    2.530820    0.587845   \n",
       "sample_2  0.000000  0.452595  0.000000  ...    6.172313    0.000000   \n",
       "sample_3  7.742714  0.434882  1.931418  ...    6.318335    0.000000   \n",
       "sample_4  2.612801  0.649386  0.000000  ...    6.775999    5.370398   \n",
       "\n",
       "          gene_20476  gene_20484  gene_20490  gene_20500  gene_20504  \\\n",
       "sample_0    9.175285    2.717803    0.000000    5.902800    2.602077   \n",
       "sample_1    0.000000    4.516185    4.008227    1.004394    0.811142   \n",
       "sample_2    8.834108    6.535353    2.337254    0.000000    5.014445   \n",
       "sample_3    7.529188    4.466457    0.434882    5.075383    6.233192   \n",
       "sample_4    7.647883    0.889707    2.045093    3.954001    4.586531   \n",
       "\n",
       "          gene_20514  gene_20524  gene_20529  \n",
       "sample_0    7.128881    7.220030    5.286759  \n",
       "sample_1    6.047558    6.256586    2.094168  \n",
       "sample_2    6.661493    5.401607    1.683023  \n",
       "sample_3    7.613915    8.942805    3.292001  \n",
       "sample_4    6.505099    7.181162    5.110372  \n",
       "\n",
       "[5 rows x 5587 columns]"
      ]
     },
     "execution_count": 67,
     "metadata": {},
     "output_type": "execute_result"
    }
   ],
   "source": [
    "#var_filtered_data = data.iloc[data.var() > 5]\n",
    "#print(data.var() > 5)\n",
    "variance = data.var()\n",
    "columns = data.columns\n",
    "\n",
    "variable = []\n",
    "threshold = 2\n",
    "\n",
    "for i in range(0, len(variance)):\n",
    "    if variance[i] >= threshold:\n",
    "        variable.append(columns[i])\n",
    "\n",
    "print(len(variable))\n",
    "\n",
    "var_filtered_data = data[variable]\n",
    "var_filtered_data.head()"
   ]
  },
  {
   "cell_type": "code",
   "execution_count": 70,
   "metadata": {},
   "outputs": [
    {
     "data": {
      "image/png": "[encoded data removed]",
      "text/plain": [
       "<Figure size 864x432 with 2 Axes>"
      ]
     },
     "metadata": {
      "needs_background": "light"
     },
     "output_type": "display_data"
    }
   ],
   "source": [
    "fig, axs = plt.subplots(nrows=1, ncols=2, figsize=(12,6))\n",
    "axs[0].hist(var_filtered_data.mean())\n",
    "axs[0].set_title('Mean')\n",
    "\n",
    "axs[1].hist(var_filtered_data.var())\n",
    "axs[1].set_title('Variance')\n",
    "axs[1].set_yscale('log')"
   ]
  },
  {
   "cell_type": "markdown",
   "metadata": {},
   "source": [
    "### Task 3\n",
    "\n",
    "- Perform a Principal Component Analysis on the reduced dataset and look at some pair-plots between the first few principal components.\n",
    "- Are any patterns visible?\n",
    "- Also look at the eigenvalues of the principal components (scree plot). Is there a potential to reduce the dimension of the dataset even more? If so, perform a dimension reduction and only work with the selected principal components. If not, work with the original dataset after variance filtering."
   ]
  },
  {
   "cell_type": "code",
   "execution_count": 76,
   "metadata": {},
   "outputs": [
    {
     "name": "stdout",
     "output_type": "stream",
     "text": [
      "[0.18374285 0.11468524 0.10506603 0.07249052 0.03199347 0.02712612]\n"
     ]
    }
   ],
   "source": [
    "from sklearn.decomposition import PCA\n",
    "\n",
    "pca = PCA() # n_components ?\n",
    "principal_components = pca.fit(var_filtered_data)\n",
    "print(pca.explained_variance_ratio_[:6])\n"
   ]
  }
 ],
 "metadata": {
  "interpreter": {
   "hash": "b2f2472ab54680bfb6e61a518eda9218d81096fbfbc7c0548291461317c14e34"
  },
  "kernelspec": {
   "display_name": "Python 3.8.3 32-bit",
   "language": "python",
   "name": "python3"
  },
  "language_info": {
   "codemirror_mode": {
    "name": "ipython",
    "version": 3
   },
   "file_extension": ".py",
   "mimetype": "text/x-python",
   "name": "python",
   "nbconvert_exporter": "python",
   "pygments_lexer": "ipython3",
   "version": "3.8.5"
  },
  "orig_nbformat": 4
 },
 "nbformat": 4,
 "nbformat_minor": 2
}
