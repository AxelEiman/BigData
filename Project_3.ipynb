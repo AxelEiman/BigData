{
 "cells": [
  {
   "cell_type": "code",
   "execution_count": 11,
   "metadata": {},
   "outputs": [],
   "source": [
    "from sklearn.linear_model import LassoCV, Lasso\n",
    "from sklearn.metrics import mean_squared_error as mse\n",
    "from time import perf_counter\n",
    "import numpy as np"
   ]
  },
  {
   "cell_type": "markdown",
   "metadata": {},
   "source": [
    "### Part 1: Prediction quality vs feature selection\n",
    "\n",
    "#### Tasks\n",
    "\n",
    "In this taks you are supposed to\n",
    "\n",
    "1. repeatedly simulate new datasets and for each dataset do Steps 2 and 3 \n",
    "2.  determine λ_{min} and λ_{1se} using cross-validation on the training data\n",
    "\n",
    "3.  compare the two resulting Lasso models with respect to\n",
    "    - Mean squared error on the training as well as test data\n",
    "    - Feature selection quality in comparison to the original simulated regression coefficients\n"
   ]
  },
  {
   "cell_type": "markdown",
   "metadata": {},
   "source": [
    "Let us look a bit closer at each task.\n",
    "\n",
    "1. Simulate data\n",
    "Simulating useful data for the Lasso isn't complicated but to make sure you can focus on the interesting tasks I included a Python and a R version of a data-generating function. You can either ignore them and follow the description here, use them or take them as inspiration to write your own. The ideas are\n",
    "\n",
    "    1. Generate n observations from an isometric normal distribution $N(0,Ip)$, i.e. theoretically uncorrelated features.\n",
    "    2. Generate regression coefficients beta as a vector that contains ceiling((1 - sparsity) p) non-zero elements [ceiling = closest integer less or equal to] that are normal distributed with a standard deviation of beta_scale. All other elements are zero.\n",
    "    3. At this point Xβ is the noise-less response and √∥Xβ∥22/(n−1) is its sample standard deviation. Signal-to-noise ratio is a measure for the proportion of the signal (noise-less response) standard deviation to the standard deviation of the noise, i.e. SNR = sd_signal / sd_noise. Specifying the SNR is a convenient way to determine what standard deviation for the noise is reasonable by choosing sd_noise = sd_signal / SNR. As an example, SNR = 2 means that the standard deviation of the noise-less is twice as large as the standard deviation of the noise and the noise-less response will be more \"pronounced\" the larger the SNR is. If 0 <= SNR < 1, then the noise is stronger than the signal which is hard to deal with for most methods.\n",
    "    4. Finally, the response is created in the form of a linear model y = X beta + sigma eps."
   ]
  },
  {
   "cell_type": "code",
   "execution_count": 2,
   "metadata": {},
   "outputs": [],
   "source": [
    "def simulate_data(n, p, rng, *, sparsity=0.95, SNR=2.0, beta_scale=5.0):\n",
    "    \"\"\"Simulate data for Project 3, Part 1.\n",
    "\n",
    "    Parameters\n",
    "    ----------\n",
    "    n : int\n",
    "        Number of samples\n",
    "    p : int\n",
    "        Number of features\n",
    "    rng : numpy.random.Generator\n",
    "        Random number generator (e.g. from `numpy.random.default_rng`)\n",
    "    sparsity : float in (0, 1)\n",
    "        Percentage of zero elements in simulated regression coefficients\n",
    "    SNR : positive float\n",
    "        Signal-to-noise ratio (see explanation above)\n",
    "    beta_scale : float\n",
    "        Scaling for the coefficient to make sure they are large\n",
    "\n",
    "    Returns\n",
    "    -------\n",
    "    X : `n x p` numpy.array\n",
    "        Matrix of features\n",
    "    y : `n` numpy.array\n",
    "        Vector of responses\n",
    "    beta : `p` numpy.array\n",
    "        Vector of regression coefficients\n",
    "    \"\"\"\n",
    "    X = rng.standard_normal(size=(n, p))\n",
    "    \n",
    "    q = int(np.ceil((1.0 - sparsity) * p))\n",
    "    beta = np.zeros((p,), dtype=float)\n",
    "    beta[:q] = beta_scale * rng.standard_normal(size=(q,))\n",
    "    \n",
    "    sigma = np.sqrt(np.sum(np.square(X @ beta)) / (n - 1)) / SNR\n",
    "\n",
    "    y = X @ beta + sigma * rng.standard_normal(size=(n,))\n",
    "\n",
    "    # Shuffle columns so that non-zero features appear\n",
    "    # not simply in the first (1 - sparsity) * p columns\n",
    "    idx_col = rng.permutation(p)\n",
    "    \n",
    "    return X[:, idx_col], y, beta[idx_col]"
   ]
  },
  {
   "cell_type": "code",
   "execution_count": 3,
   "metadata": {},
   "outputs": [],
   "source": [
    "p = 500     # Fix p at something large, e.g. 500 or 1000\n",
    "n_list = [125, 250, 375]    # Let n vary compared to p, e.g. iterate through [200, 500, 750] if you set p = 1000. What truly matters here is the ratio p / n, so if you choose p differently, adjust your choices for n\n",
    "sparsities = [0.75, 0.9, 0.95, 0.99]    # Let sparsity vary for a few choices, e.g. [0.75, 0.9, 0.95, 0.99]\n",
    "SNR = 2     # You can fix SNR at something reasonable like 2 or 5 throughout\n",
    "beta_scale = 5      # Same holds for beta_scale, maybe 5 or 10\n",
    "rng = np.random.default_rng(12345)\n",
    "test_size = 500"
   ]
  },
  {
   "cell_type": "markdown",
   "metadata": {},
   "source": [
    "In addition, it will help you tremendously in the interpretation of the results if you **repeat the simulations a few times**, say 5 or 10 times, for each choice of n and sparsity. Here is why you should be careful with your choices: If you chose three values for n and four for sparsity, as well as 5 repeats, then you need to run your simulations for 60 datasets. A setup with 50 datasets took about 2 minutes on a 2017 MacBook, so if it takes hours, you did something wrong :-)\n",
    "\n",
    "It can be good to include intermediate print-outs/clock output throughout the code, e.g. for iteration numbers or cross-validation so you can detect if there is a time sink somewhere"
   ]
  },
  {
   "cell_type": "code",
   "execution_count": 4,
   "metadata": {},
   "outputs": [],
   "source": [
    "x, y, beta = simulate_data(n_list[0], p, rng)"
   ]
  },
  {
   "cell_type": "markdown",
   "metadata": {},
   "source": [
    "Fit Lasso model"
   ]
  },
  {
   "cell_type": "code",
   "execution_count": 5,
   "metadata": {},
   "outputs": [
    {
     "data": {
      "text/plain": [
       "0.8287512499203031"
      ]
     },
     "execution_count": 5,
     "metadata": {},
     "output_type": "execute_result"
    }
   ],
   "source": [
    "reg = LassoCV(cv=5, random_state=0).fit(x, y)\n",
    "alpha = reg.alpha_\n",
    "reg.score(x, y)"
   ]
  },
  {
   "cell_type": "code",
   "execution_count": 6,
   "metadata": {},
   "outputs": [
    {
     "data": {
      "text/plain": [
       "0.8287512499203031"
      ]
     },
     "execution_count": 6,
     "metadata": {},
     "output_type": "execute_result"
    }
   ],
   "source": [
    "reg_2 = Lasso(alpha=alpha).fit(x,y)\n",
    "reg_2.score(x, y)"
   ]
  },
  {
   "cell_type": "code",
   "execution_count": 7,
   "metadata": {},
   "outputs": [
    {
     "data": {
      "text/plain": [
       "(100, 5)"
      ]
     },
     "execution_count": 7,
     "metadata": {},
     "output_type": "execute_result"
    }
   ],
   "source": [
    "reg.mse_path_.shape"
   ]
  },
  {
   "cell_type": "markdown",
   "metadata": {},
   "source": [
    "2. Determine hyperparameters\n",
    "\n",
    "This works as described above the \"Tasks\" section. Depending on the the package you are using you will have to perform some different steps to get the coefficients and the predictions."
   ]
  },
  {
   "cell_type": "code",
   "execution_count": 48,
   "metadata": {},
   "outputs": [
    {
     "name": "stdout",
     "output_type": "stream",
     "text": [
      "alpha_min = 6.5248, alpha_1se = 8.6254\n",
      "n = 125, spar = 0.75, alpha_min mse = 2964.6765, alpha_1se mse = 2877.3795\n",
      "alpha_min = 9.5328, alpha_1se = 12.6018\n",
      "n = 125, spar = 0.75, alpha_min mse = 3541.2700, alpha_1se mse = 3376.2428\n",
      "alpha_min = 13.5520, alpha_1se = 17.9149\n",
      "n = 125, spar = 0.75, alpha_min mse = 4648.2608, alpha_1se mse = 4562.8593\n",
      "alpha_min = 5.3284, alpha_1se = 8.6840\n",
      "n = 125, spar = 0.75, alpha_min mse = 4278.6389, alpha_1se mse = 3909.2928\n",
      "alpha_min = 4.9484, alpha_1se = 6.1006\n",
      "n = 125, spar = 0.75, alpha_min mse = 4903.0388, alpha_1se mse = 4669.9310\n",
      "alpha_min = 16.6879, alpha_1se = 16.6879\n",
      "n = 125, spar = 0.75, alpha_min mse = 4577.6916, alpha_1se mse = 4577.6916\n",
      "alpha_min = 2.2202, alpha_1se = 5.4996\n",
      "n = 125, spar = 0.75, alpha_min mse = 5537.8257, alpha_1se mse = 4875.5374\n",
      "alpha_min = 3.9211, alpha_1se = 5.9597\n",
      "n = 125, spar = 0.75, alpha_min mse = 5015.4407, alpha_1se mse = 4638.9209\n",
      "alpha_min = 3.8699, alpha_1se = 5.4855\n",
      "n = 125, spar = 0.75, alpha_min mse = 4983.0003, alpha_1se mse = 4613.0599\n",
      "alpha_min = 5.4761, alpha_1se = 12.6504\n",
      "n = 125, spar = 0.75, alpha_min mse = 4689.8405, alpha_1se mse = 4149.6219\n",
      "alpha_min = 5.7993, alpha_1se = 10.1344\n",
      "n = 125, spar = 0.9, alpha_min mse = 1182.3314, alpha_1se mse = 1132.5328\n"
     ]
    },
    {
     "name": "stderr",
     "output_type": "stream",
     "text": [
      "c:\\Users\\Admin\\anaconda3\\lib\\site-packages\\sklearn\\linear_model\\_coordinate_descent.py:529: ConvergenceWarning: Objective did not converge. You might want to increase the number of iterations. Duality gap: 34.29157178245023, tolerance: 17.173463605261297\n",
      "  model = cd_fast.enet_coordinate_descent(\n",
      "c:\\Users\\Admin\\anaconda3\\lib\\site-packages\\sklearn\\linear_model\\_coordinate_descent.py:529: ConvergenceWarning: Objective did not converge. You might want to increase the number of iterations. Duality gap: 34.29157178245023, tolerance: 17.173463605261297\n",
      "  model = cd_fast.enet_coordinate_descent(\n"
     ]
    },
    {
     "name": "stdout",
     "output_type": "stream",
     "text": [
      "alpha_min = 0.0123, alpha_1se = 1.6260\n",
      "n = 125, spar = 0.9, alpha_min mse = 2767.2710, alpha_1se mse = 2366.2167\n",
      "alpha_min = 0.2788, alpha_1se = 1.8341\n",
      "n = 125, spar = 0.9, alpha_min mse = 2581.0528, alpha_1se mse = 2320.0858\n"
     ]
    },
    {
     "name": "stderr",
     "output_type": "stream",
     "text": [
      "c:\\Users\\Admin\\anaconda3\\lib\\site-packages\\sklearn\\linear_model\\_coordinate_descent.py:529: ConvergenceWarning: Objective did not converge. You might want to increase the number of iterations. Duality gap: 60.38684591246958, tolerance: 25.228723171021407\n",
      "  model = cd_fast.enet_coordinate_descent(\n",
      "c:\\Users\\Admin\\anaconda3\\lib\\site-packages\\sklearn\\linear_model\\_coordinate_descent.py:529: ConvergenceWarning: Objective did not converge. You might want to increase the number of iterations. Duality gap: 60.38684591246958, tolerance: 25.228723171021407\n",
      "  model = cd_fast.enet_coordinate_descent(\n"
     ]
    },
    {
     "name": "stdout",
     "output_type": "stream",
     "text": [
      "alpha_min = 0.0154, alpha_1se = 0.7166\n",
      "n = 125, spar = 0.9, alpha_min mse = 2511.5921, alpha_1se mse = 2311.9504\n",
      "alpha_min = 3.3627, alpha_1se = 4.1457\n",
      "n = 125, spar = 0.9, alpha_min mse = 2255.6886, alpha_1se mse = 2190.0364\n",
      "alpha_min = 2.6491, alpha_1se = 3.5020\n",
      "n = 125, spar = 0.9, alpha_min mse = 1786.8248, alpha_1se mse = 1722.1272\n",
      "alpha_min = 5.4411, alpha_1se = 6.7080\n",
      "n = 125, spar = 0.9, alpha_min mse = 1763.1462, alpha_1se mse = 1670.7696\n",
      "alpha_min = 3.3604, alpha_1se = 4.7634\n",
      "n = 125, spar = 0.9, alpha_min mse = 1857.5312, alpha_1se mse = 1718.0180\n",
      "alpha_min = 0.2612, alpha_1se = 0.4564\n",
      "n = 125, spar = 0.9, alpha_min mse = 1649.8168, alpha_1se mse = 1607.8829\n",
      "alpha_min = 0.8205, alpha_1se = 1.2471\n",
      "n = 125, spar = 0.9, alpha_min mse = 2093.2292, alpha_1se mse = 2035.2093\n",
      "alpha_min = 1.3174, alpha_1se = 1.7416\n",
      "n = 125, spar = 0.95, alpha_min mse = 935.3289, alpha_1se mse = 905.6323\n",
      "alpha_min = 1.2186, alpha_1se = 1.5023\n",
      "n = 125, spar = 0.95, alpha_min mse = 1499.4833, alpha_1se mse = 1482.2379\n",
      "alpha_min = 0.5126, alpha_1se = 0.7791\n",
      "n = 125, spar = 0.95, alpha_min mse = 1023.9037, alpha_1se mse = 997.4290\n",
      "alpha_min = 0.6111, alpha_1se = 0.7534\n",
      "n = 125, spar = 0.95, alpha_min mse = 1202.5106, alpha_1se mse = 1189.3024\n",
      "alpha_min = 2.7607, alpha_1se = 3.6495\n",
      "n = 125, spar = 0.95, alpha_min mse = 809.1340, alpha_1se mse = 787.4925\n",
      "alpha_min = 1.9787, alpha_1se = 2.1217\n",
      "n = 125, spar = 0.95, alpha_min mse = 1046.4485, alpha_1se mse = 1034.1242\n",
      "alpha_min = 1.5510, alpha_1se = 2.0503\n",
      "n = 125, spar = 0.95, alpha_min mse = 734.4276, alpha_1se mse = 700.8175\n",
      "alpha_min = 1.1019, alpha_1se = 1.7959\n",
      "n = 125, spar = 0.95, alpha_min mse = 1253.5140, alpha_1se mse = 1200.4166\n",
      "alpha_min = 1.3172, alpha_1se = 1.7412\n",
      "n = 125, spar = 0.95, alpha_min mse = 1299.9018, alpha_1se mse = 1255.7226\n",
      "alpha_min = 2.7197, alpha_1se = 3.5953\n",
      "n = 125, spar = 0.95, alpha_min mse = 1580.3076, alpha_1se mse = 1543.1101\n",
      "alpha_min = 1.0305, alpha_1se = 1.1849\n",
      "n = 125, spar = 0.99, alpha_min mse = 300.7868, alpha_1se mse = 298.6848\n",
      "alpha_min = 1.4493, alpha_1se = 1.5540\n",
      "n = 125, spar = 0.99, alpha_min mse = 445.2504, alpha_1se mse = 441.2890\n",
      "alpha_min = 0.3448, alpha_1se = 0.4250\n",
      "n = 125, spar = 0.99, alpha_min mse = 121.7730, alpha_1se mse = 120.9941\n",
      "alpha_min = 0.5714, alpha_1se = 0.7044\n",
      "n = 125, spar = 0.99, alpha_min mse = 84.5665, alpha_1se mse = 82.6068\n",
      "alpha_min = 0.7060, alpha_1se = 1.2338\n",
      "n = 125, spar = 0.99, alpha_min mse = 310.3611, alpha_1se mse = 301.9330\n",
      "alpha_min = 0.4757, alpha_1se = 0.8312\n",
      "n = 125, spar = 0.99, alpha_min mse = 74.4846, alpha_1se mse = 66.2322\n",
      "alpha_min = 0.3287, alpha_1se = 0.8731\n",
      "n = 125, spar = 0.99, alpha_min mse = 381.3140, alpha_1se mse = 346.6497\n",
      "alpha_min = 1.2932, alpha_1se = 1.5943\n",
      "n = 125, spar = 0.99, alpha_min mse = 425.2105, alpha_1se mse = 414.8767\n",
      "alpha_min = 0.6268, alpha_1se = 0.8285\n",
      "n = 125, spar = 0.99, alpha_min mse = 277.1773, alpha_1se mse = 273.2200\n",
      "alpha_min = 1.1721, alpha_1se = 1.5495\n",
      "n = 125, spar = 0.99, alpha_min mse = 285.1852, alpha_1se mse = 271.6881\n",
      "alpha_min = 3.0039, alpha_1se = 3.7033\n",
      "n = 250, spar = 0.75, alpha_min mse = 4489.7166, alpha_1se mse = 4330.2333\n",
      "alpha_min = 1.9504, alpha_1se = 4.8312\n",
      "n = 250, spar = 0.75, alpha_min mse = 6224.5791, alpha_1se mse = 5513.8762\n",
      "alpha_min = 1.5587, alpha_1se = 2.7239\n",
      "n = 250, spar = 0.75, alpha_min mse = 6009.4587, alpha_1se mse = 5597.0546\n",
      "alpha_min = 3.5753, alpha_1se = 4.4078\n",
      "n = 250, spar = 0.75, alpha_min mse = 4534.6876, alpha_1se mse = 4362.0595\n",
      "alpha_min = 5.3716, alpha_1se = 7.1009\n",
      "n = 250, spar = 0.75, alpha_min mse = 4329.3461, alpha_1se mse = 4221.6587\n",
      "alpha_min = 2.1503, alpha_1se = 3.0479\n",
      "n = 250, spar = 0.75, alpha_min mse = 5559.5650, alpha_1se mse = 5378.9233\n",
      "alpha_min = 3.5296, alpha_1se = 4.6659\n",
      "n = 250, spar = 0.75, alpha_min mse = 4065.3590, alpha_1se mse = 3877.6810\n",
      "alpha_min = 2.4235, alpha_1se = 2.7864\n",
      "n = 250, spar = 0.75, alpha_min mse = 4692.5125, alpha_1se mse = 4581.9233\n",
      "alpha_min = 1.1428, alpha_1se = 1.8625\n",
      "n = 250, spar = 0.75, alpha_min mse = 5219.3984, alpha_1se mse = 4931.9797\n",
      "alpha_min = 0.9880, alpha_1se = 1.4004\n",
      "n = 250, spar = 0.75, alpha_min mse = 5989.5024, alpha_1se mse = 5788.1846\n",
      "alpha_min = 1.0981, alpha_1se = 1.5565\n",
      "n = 250, spar = 0.9, alpha_min mse = 2333.4912, alpha_1se mse = 2277.7843\n",
      "alpha_min = 0.7120, alpha_1se = 1.0822\n",
      "n = 250, spar = 0.9, alpha_min mse = 2294.2543, alpha_1se mse = 2182.1915\n",
      "alpha_min = 1.5901, alpha_1se = 1.9604\n",
      "n = 250, spar = 0.9, alpha_min mse = 2132.4744, alpha_1se mse = 2063.5751\n",
      "alpha_min = 2.0378, alpha_1se = 2.6938\n",
      "n = 250, spar = 0.9, alpha_min mse = 2198.2366, alpha_1se mse = 2100.3159\n",
      "alpha_min = 1.2689, alpha_1se = 1.6774\n",
      "n = 250, spar = 0.9, alpha_min mse = 2178.4189, alpha_1se mse = 2095.3300\n",
      "alpha_min = 0.7322, alpha_1se = 0.9679\n",
      "n = 250, spar = 0.9, alpha_min mse = 2771.6752, alpha_1se mse = 2650.2985\n",
      "alpha_min = 1.3163, alpha_1se = 2.1453\n",
      "n = 250, spar = 0.9, alpha_min mse = 2772.9401, alpha_1se mse = 2589.1123\n",
      "alpha_min = 1.0932, alpha_1se = 1.4451\n",
      "n = 250, spar = 0.9, alpha_min mse = 2427.7709, alpha_1se mse = 2350.0361\n",
      "alpha_min = 1.2201, alpha_1se = 1.6129\n",
      "n = 250, spar = 0.9, alpha_min mse = 2370.4219, alpha_1se mse = 2274.7930\n",
      "alpha_min = 1.4745, alpha_1se = 1.8179\n",
      "n = 250, spar = 0.9, alpha_min mse = 2009.1183, alpha_1se mse = 1930.6641\n",
      "alpha_min = 0.8858, alpha_1se = 1.0921\n",
      "n = 250, spar = 0.95, alpha_min mse = 905.7726, alpha_1se mse = 881.5260\n",
      "alpha_min = 1.0083, alpha_1se = 1.2431\n",
      "n = 250, spar = 0.95, alpha_min mse = 1383.2864, alpha_1se mse = 1339.7203\n",
      "alpha_min = 0.2876, alpha_1se = 0.5779\n",
      "n = 250, spar = 0.95, alpha_min mse = 1525.2473, alpha_1se mse = 1471.6418\n",
      "alpha_min = 1.0870, alpha_1se = 1.2498\n",
      "n = 250, spar = 0.95, alpha_min mse = 1609.1810, alpha_1se mse = 1590.3980\n",
      "alpha_min = 1.6595, alpha_1se = 2.0459\n",
      "n = 250, spar = 0.95, alpha_min mse = 1159.3932, alpha_1se mse = 1109.5354\n",
      "alpha_min = 0.9621, alpha_1se = 1.2719\n",
      "n = 250, spar = 0.95, alpha_min mse = 1054.5619, alpha_1se mse = 1020.2713\n",
      "alpha_min = 1.3605, alpha_1se = 1.5643\n",
      "n = 250, spar = 0.95, alpha_min mse = 1253.4044, alpha_1se mse = 1230.1213\n",
      "alpha_min = 1.5362, alpha_1se = 1.8939\n",
      "n = 250, spar = 0.95, alpha_min mse = 1537.1418, alpha_1se mse = 1488.5103\n",
      "alpha_min = 1.0853, alpha_1se = 1.5384\n",
      "n = 250, spar = 0.95, alpha_min mse = 1062.2682, alpha_1se mse = 999.1224\n",
      "alpha_min = 1.4545, alpha_1se = 1.6723\n",
      "n = 250, spar = 0.95, alpha_min mse = 1555.8830, alpha_1se mse = 1528.8558\n",
      "alpha_min = 1.3013, alpha_1se = 1.7203\n",
      "n = 250, spar = 0.99, alpha_min mse = 255.6318, alpha_1se mse = 245.3478\n",
      "alpha_min = 0.7029, alpha_1se = 0.8082\n",
      "n = 250, spar = 0.99, alpha_min mse = 391.3213, alpha_1se mse = 386.3649\n",
      "alpha_min = 0.5589, alpha_1se = 0.6891\n",
      "n = 250, spar = 0.99, alpha_min mse = 135.4767, alpha_1se mse = 131.7664\n",
      "alpha_min = 1.4534, alpha_1se = 1.6710\n",
      "n = 250, spar = 0.99, alpha_min mse = 321.0363, alpha_1se mse = 308.9203\n",
      "alpha_min = 0.7352, alpha_1se = 0.9064\n",
      "n = 250, spar = 0.99, alpha_min mse = 361.1179, alpha_1se mse = 352.5733\n",
      "alpha_min = 0.6470, alpha_1se = 0.7977\n",
      "n = 250, spar = 0.99, alpha_min mse = 165.4813, alpha_1se mse = 160.9013\n",
      "alpha_min = 1.0126, alpha_1se = 1.2484\n",
      "n = 250, spar = 0.99, alpha_min mse = 477.8985, alpha_1se mse = 471.2757\n",
      "alpha_min = 0.5411, alpha_1se = 0.9457\n",
      "n = 250, spar = 0.99, alpha_min mse = 210.6157, alpha_1se mse = 198.2359\n",
      "alpha_min = 0.5776, alpha_1se = 0.7636\n",
      "n = 250, spar = 0.99, alpha_min mse = 277.3209, alpha_1se mse = 271.4822\n",
      "alpha_min = 0.7201, alpha_1se = 0.8878\n",
      "n = 250, spar = 0.99, alpha_min mse = 186.2268, alpha_1se mse = 177.7877\n",
      "alpha_min = 1.4405, alpha_1se = 1.6562\n",
      "n = 375, spar = 0.75, alpha_min mse = 5629.0392, alpha_1se mse = 5504.1907\n",
      "alpha_min = 1.2744, alpha_1se = 1.8064\n",
      "n = 375, spar = 0.75, alpha_min mse = 7765.3794, alpha_1se mse = 7376.6663\n",
      "alpha_min = 1.3683, alpha_1se = 1.8088\n",
      "n = 375, spar = 0.75, alpha_min mse = 5595.1440, alpha_1se mse = 5340.8139\n",
      "alpha_min = 1.2833, alpha_1se = 1.5822\n",
      "n = 375, spar = 0.75, alpha_min mse = 5315.3239, alpha_1se mse = 5159.5043\n",
      "alpha_min = 0.9097, alpha_1se = 1.2895\n",
      "n = 375, spar = 0.75, alpha_min mse = 5803.7170, alpha_1se mse = 5413.5410\n",
      "alpha_min = 1.8750, alpha_1se = 2.3115\n",
      "n = 375, spar = 0.75, alpha_min mse = 5306.9945, alpha_1se mse = 5022.0615\n",
      "alpha_min = 1.6605, alpha_1se = 2.0472\n",
      "n = 375, spar = 0.75, alpha_min mse = 4993.7701, alpha_1se mse = 4842.3036\n",
      "alpha_min = 1.3352, alpha_1se = 1.6460\n",
      "n = 375, spar = 0.75, alpha_min mse = 5744.0558, alpha_1se mse = 5551.2220\n",
      "alpha_min = 1.6409, alpha_1se = 2.0229\n",
      "n = 375, spar = 0.75, alpha_min mse = 6990.5542, alpha_1se mse = 6807.0416\n",
      "alpha_min = 1.0103, alpha_1se = 1.2455\n",
      "n = 375, spar = 0.75, alpha_min mse = 4911.7906, alpha_1se mse = 4718.8735\n",
      "alpha_min = 0.6854, alpha_1se = 0.8450\n",
      "n = 375, spar = 0.9, alpha_min mse = 2409.1932, alpha_1se mse = 2374.9280\n",
      "alpha_min = 0.9000, alpha_1se = 1.1897\n",
      "n = 375, spar = 0.9, alpha_min mse = 1467.4157, alpha_1se mse = 1433.0975\n",
      "alpha_min = 1.2816, alpha_1se = 1.5800\n",
      "n = 375, spar = 0.9, alpha_min mse = 2407.6818, alpha_1se mse = 2328.4626\n",
      "alpha_min = 0.8985, alpha_1se = 1.1878\n",
      "n = 375, spar = 0.9, alpha_min mse = 1977.5020, alpha_1se mse = 1907.4025\n",
      "alpha_min = 1.3998, alpha_1se = 1.7258\n",
      "n = 375, spar = 0.9, alpha_min mse = 2124.1010, alpha_1se mse = 2046.6994\n",
      "alpha_min = 1.4440, alpha_1se = 1.6603\n",
      "n = 375, spar = 0.9, alpha_min mse = 2440.4850, alpha_1se mse = 2397.5259\n",
      "alpha_min = 1.0687, alpha_1se = 1.5149\n",
      "n = 375, spar = 0.9, alpha_min mse = 2787.5007, alpha_1se mse = 2639.4027\n",
      "alpha_min = 1.2424, alpha_1se = 1.4285\n",
      "n = 375, spar = 0.9, alpha_min mse = 3785.6101, alpha_1se mse = 3717.7330\n",
      "alpha_min = 1.1901, alpha_1se = 1.5732\n",
      "n = 375, spar = 0.9, alpha_min mse = 2761.0063, alpha_1se mse = 2639.5499\n",
      "alpha_min = 1.0583, alpha_1se = 1.3991\n",
      "n = 375, spar = 0.9, alpha_min mse = 2953.6522, alpha_1se mse = 2845.4624\n",
      "alpha_min = 0.9209, alpha_1se = 1.0588\n",
      "n = 375, spar = 0.95, alpha_min mse = 945.2313, alpha_1se mse = 927.5438\n",
      "alpha_min = 1.0271, alpha_1se = 1.2663\n",
      "n = 375, spar = 0.95, alpha_min mse = 844.3188, alpha_1se mse = 810.1344\n",
      "alpha_min = 0.9888, alpha_1se = 1.1369\n",
      "n = 375, spar = 0.95, alpha_min mse = 1274.0621, alpha_1se mse = 1247.8280\n",
      "alpha_min = 0.8811, alpha_1se = 1.0130\n",
      "n = 375, spar = 0.95, alpha_min mse = 839.3706, alpha_1se mse = 827.1447\n",
      "alpha_min = 0.7394, alpha_1se = 0.9774\n",
      "n = 375, spar = 0.95, alpha_min mse = 1568.5953, alpha_1se mse = 1528.7782\n",
      "alpha_min = 0.6107, alpha_1se = 0.8072\n",
      "n = 375, spar = 0.95, alpha_min mse = 1185.9958, alpha_1se mse = 1163.4890\n",
      "alpha_min = 0.7746, alpha_1se = 0.9549\n",
      "n = 375, spar = 0.95, alpha_min mse = 1407.8673, alpha_1se mse = 1386.7951\n",
      "alpha_min = 0.9738, alpha_1se = 1.3804\n",
      "n = 375, spar = 0.95, alpha_min mse = 1496.2314, alpha_1se mse = 1442.3625\n",
      "alpha_min = 0.7096, alpha_1se = 0.7609\n",
      "n = 375, spar = 0.95, alpha_min mse = 1083.6880, alpha_1se mse = 1076.4428\n",
      "alpha_min = 0.6998, alpha_1se = 0.9252\n",
      "n = 375, spar = 0.95, alpha_min mse = 1009.5888, alpha_1se mse = 973.2394\n",
      "alpha_min = 0.4661, alpha_1se = 0.5359\n",
      "n = 375, spar = 0.99, alpha_min mse = 133.6490, alpha_1se mse = 131.4696\n",
      "alpha_min = 0.3802, alpha_1se = 0.4372\n",
      "n = 375, spar = 0.99, alpha_min mse = 358.6083, alpha_1se mse = 356.1865\n",
      "alpha_min = 0.6035, alpha_1se = 0.9172\n",
      "n = 375, spar = 0.99, alpha_min mse = 247.4448, alpha_1se mse = 239.7492\n",
      "alpha_min = 0.6364, alpha_1se = 0.7317\n",
      "n = 375, spar = 0.99, alpha_min mse = 298.7660, alpha_1se mse = 296.2589\n",
      "alpha_min = 0.6386, alpha_1se = 0.8442\n",
      "n = 375, spar = 0.99, alpha_min mse = 156.3517, alpha_1se mse = 147.6173\n",
      "alpha_min = 0.3787, alpha_1se = 0.4668\n",
      "n = 375, spar = 0.99, alpha_min mse = 234.6655, alpha_1se mse = 232.7511\n",
      "alpha_min = 0.5480, alpha_1se = 0.7244\n",
      "n = 375, spar = 0.99, alpha_min mse = 204.5044, alpha_1se mse = 198.7871\n",
      "alpha_min = 1.0878, alpha_1se = 1.3411\n",
      "n = 375, spar = 0.99, alpha_min mse = 322.9732, alpha_1se mse = 310.1959\n",
      "alpha_min = 0.7162, alpha_1se = 0.7680\n",
      "n = 375, spar = 0.99, alpha_min mse = 275.0466, alpha_1se mse = 273.2175\n",
      "alpha_min = 0.7317, alpha_1se = 0.9021\n",
      "n = 375, spar = 0.99, alpha_min mse = 180.1831, alpha_1se mse = 174.0314\n"
     ]
    }
   ],
   "source": [
    "train_mse_min = np.empty(shape=(len(n_list), len(sparsities), 10))\n",
    "train_mse_ose = np.empty(shape=(len(n_list), len(sparsities), 10))\n",
    "\n",
    "test_mse_min = np.empty(shape=(len(n_list), len(sparsities), 10))\n",
    "test_mse_ose = np.empty(shape=(len(n_list), len(sparsities), 10))\n",
    "\n",
    "for i, n in enumerate(n_list):\n",
    "    for j, sparsity in enumerate(sparsities):\n",
    "        for k in range(10):\n",
    "\n",
    "            x, y, beta = simulate_data(n, p, rng, sparsity=sparsity)\n",
    "            lasso = LassoCV(cv=5).fit(x, y)\n",
    "            mse_mat = lasso.mse_path_\n",
    "            n_folds = mse_mat.shape[0]\n",
    "            cv_mean = np.mean(mse_mat, axis=1)\n",
    "            cv_std = np.std(mse_mat, axis=1)\n",
    "            idx_min_mean = np.argmin(cv_mean)\n",
    "            idx_alpha = np.where(\n",
    "                (cv_mean <= cv_mean[idx_min_mean] + cv_std[idx_min_mean] / np.sqrt(n_folds)) &\n",
    "                (cv_mean >= cv_mean[idx_min_mean])\n",
    "            )[0][0]\n",
    "            alpha_1se = lasso.alphas_[idx_alpha]\n",
    "            \n",
    "            x_test, y_test, _ = simulate_data(test_size, p, rng, sparsity=sparsity)\n",
    "\n",
    "            lasso_min = Lasso(alpha=lasso.alpha_).fit(x, y)\n",
    "            lasso_1se = Lasso(alpha=alpha_1se).fit(x, y)\n",
    "\n",
    "            train_min = mse(y, lasso_min.predict(x))\n",
    "            train_1se = mse(y, lasso_1se.predict(x))\n",
    "\n",
    "            train_mse_min[i,j,k] = train_min\n",
    "            train_mse_ose[i,j,k] = train_1se\n",
    "\n",
    "            test_min = mse(y_test, lasso_min.predict(x_test))\n",
    "            test_1se = mse(y_test, lasso_1se.predict(x_test))\n",
    "\n",
    "            test_mse_min[i,j,k] = test_min\n",
    "            test_mse_ose[i,j,k] = test_1se\n",
    "            \n",
    "            print(f'alpha_min = {lasso.alpha_:.4f}, alpha_1se = {alpha_1se:.4f}')\n",
    "            print(f'n = {n}, spar = {sparsity}, alpha_min mse = {test_min:.4f}, alpha_1se mse = {test_1se:.4f}')\n",
    "            "
   ]
  },
  {
   "cell_type": "code",
   "execution_count": 49,
   "metadata": {},
   "outputs": [
    {
     "name": "stdout",
     "output_type": "stream",
     "text": [
      "[[4513.96837747 2044.84842464 1138.49600798  270.61093617]\n",
      " [5111.41253679 2348.88016697 1304.61398011  278.21271288]\n",
      " [5805.57687462 2511.41479441 1165.49493588  241.21926317]]\n",
      "[[4225.05370968 1907.48291172 1109.62849229  261.81744347]\n",
      " [4858.35741978 2251.41007387 1265.97024284  270.46555756]\n",
      " [5573.6218323  2433.02639384 1138.3757905   236.0264413 ]]\n",
      "-----------------------------------\n",
      "[[1447.66268621  288.69879851  105.44463228   23.23783414]\n",
      " [ 787.11927211  202.74547054  128.47130524   41.10305801]\n",
      " [ 522.93498514  253.27108625  109.06382245   36.13977153]]\n",
      "[[2100.86215432  434.13964479  146.63964874   31.32889619]\n",
      " [1164.79098951  282.77062122  156.75338765   47.05696264]\n",
      " [ 668.03596838  308.96394726  127.94587218   39.83460947]]\n"
     ]
    },
    {
     "data": {
      "text/plain": [
       "<matplotlib.colorbar.Colorbar at 0x2401dcadd90>"
      ]
     },
     "execution_count": 49,
     "metadata": {},
     "output_type": "execute_result"
    },
    {
     "data": {
      "image/png": "[encoded data removed]",
      "text/plain": [
       "<Figure size 432x288 with 2 Axes>"
      ]
     },
     "metadata": {
      "needs_background": "light"
     },
     "output_type": "display_data"
    }
   ],
   "source": [
    "import matplotlib.pyplot as plt\n",
    "print(np.mean(test_mse_min, axis=2))\n",
    "print(np.mean(test_mse_ose, axis=2))\n",
    "print('-----------------------------------')\n",
    "print(np.mean(train_mse_min, axis=2))\n",
    "print(np.mean(train_mse_ose, axis=2))\n",
    "\n",
    "plt.imshow(np.mean(test_mse_min, axis=2))\n",
    "plt.colorbar()\n"
   ]
  },
  {
   "cell_type": "code",
   "execution_count": 9,
   "metadata": {},
   "outputs": [
    {
     "data": {
      "text/plain": [
       "5"
      ]
     },
     "execution_count": 9,
     "metadata": {},
     "output_type": "execute_result"
    }
   ],
   "source": [
    "reg.mse_path_.shape[1]"
   ]
  },
  {
   "cell_type": "markdown",
   "metadata": {},
   "source": [
    "### 3. Comparing the two Lasso models\n",
    "\n",
    "#### Computation of train/test MSE\n",
    "\n",
    "Whenever you use LassoCV or cv.glmnet you can, at the best, access the test error for each fold. To compute both the training and test MSE of the model, you have two options:\n",
    "\n",
    "1. Write your own cross validation loop. Then you can evaluate the training and test error and safe both.\n",
    "2. Instead of only creating a training dataset with the options given in Part 1, Task 1 you can do the following:\n",
    "    - Fix n_test at some larger value, say, n_test = 500 or n_test = 1000\n",
    "    - Instead of simulating n samples you generate now n + n_test and split the dataset. Train on the n samples with cross validation and use the remaining n_test samples for testing. You do not need to adapt the size of the test set to the size of the training dataset as long as you choose it large enough.\n",
    "Option 2 is probably less tedious to implement, but the choice is up to you.\n",
    "\n",
    "When reporting the results for the train/test MSE, **please do not simply report a table of numbers. Find a nice way to visualise the results.**\n",
    "\n",
    "#### Question\n",
    " - How does the MSE of the $λ_{min}$ and $λ_{1se}$ models behave for different n and sparsity levels?"
   ]
  },
  {
   "cell_type": "code",
   "execution_count": null,
   "metadata": {},
   "outputs": [],
   "source": []
  },
  {
   "cell_type": "markdown",
   "metadata": {},
   "source": [
    "### Evaluating the feature selection capability\n",
    "\n",
    "Compute sensitivity and specificity using the 0-1 codings of the true and estimated coefficient vectors and plot them in a scatter plot."
   ]
  },
  {
   "cell_type": "code",
   "execution_count": null,
   "metadata": {},
   "outputs": [],
   "source": []
  },
  {
   "cell_type": "markdown",
   "metadata": {},
   "source": [
    "\n",
    "#### Questions\n",
    "\n",
    " - What differences between sensitivity/specificity computed from the $λ_{min}$ and the $λ_{1se}$ models can you observe?\n",
    " - How do different choices for n and sparsity affect the relationship of sensitivity/specificity?"
   ]
  }
 ],
 "metadata": {
  "interpreter": {
   "hash": "2043299c89c8cd0b4d1a6f5cf4529bd58e6a4e0fe3181a25e0d328c821cdc5c5"
  },
  "kernelspec": {
   "display_name": "Python 3.8.5 ('base')",
   "language": "python",
   "name": "python3"
  },
  "language_info": {
   "codemirror_mode": {
    "name": "ipython",
    "version": 3
   },
   "file_extension": ".py",
   "mimetype": "text/x-python",
   "name": "python",
   "nbconvert_exporter": "python",
   "pygments_lexer": "ipython3",
   "version": "3.8.5"
  },
  "orig_nbformat": 4
 },
 "nbformat": 4,
 "nbformat_minor": 2
}
