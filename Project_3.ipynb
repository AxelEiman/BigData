{
 "cells": [
  {
   "cell_type": "code",
   "execution_count": 36,
   "metadata": {},
   "outputs": [],
   "source": [
    "from sklearn.linear_model import LassoCV\n",
    "from sklearn.linear_model import Lasso\n",
    "import numpy as np"
   ]
  },
  {
   "cell_type": "markdown",
   "metadata": {},
   "source": [
    "### Part 1: Prediction quality vs feature selection\n",
    "\n",
    "#### Tasks\n",
    "\n",
    "In this taks you are supposed to\n",
    "\n",
    "1. repeatedly simulate new datasets and for each dataset do Steps 2 and 3 \n",
    "2.  determine λ_{min} and λ_{1se} using cross-validation on the training data\n",
    "\n",
    "3.  compare the two resulting Lasso models with respect to\n",
    "    - Mean squared error on the training as well as test data\n",
    "    - Feature selection quality in comparison to the original simulated regression coefficients\n"
   ]
  },
  {
   "cell_type": "markdown",
   "metadata": {},
   "source": [
    "Let us look a bit closer at each task.\n",
    "\n",
    "1. Simulate data\n",
    "Simulating useful data for the Lasso isn't complicated but to make sure you can focus on the interesting tasks I included a Python and a R version of a data-generating function. You can either ignore them and follow the description here, use them or take them as inspiration to write your own. The ideas are\n",
    "\n",
    "    1. Generate n observations from an isometric normal distribution $N(0,Ip)$, i.e. theoretically uncorrelated features.\n",
    "    2. Generate regression coefficients beta as a vector that contains ceiling((1 - sparsity) p) non-zero elements [ceiling = closest integer less or equal to] that are normal distributed with a standard deviation of beta_scale. All other elements are zero.\n",
    "    3. At this point Xβ is the noise-less response and √∥Xβ∥22/(n−1) is its sample standard deviation. Signal-to-noise ratio is a measure for the proportion of the signal (noise-less response) standard deviation to the standard deviation of the noise, i.e. SNR = sd_signal / sd_noise. Specifying the SNR is a convenient way to determine what standard deviation for the noise is reasonable by choosing sd_noise = sd_signal / SNR. As an example, SNR = 2 means that the standard deviation of the noise-less is twice as large as the standard deviation of the noise and the noise-less response will be more \"pronounced\" the larger the SNR is. If 0 <= SNR < 1, then the noise is stronger than the signal which is hard to deal with for most methods.\n",
    "    4. Finally, the response is created in the form of a linear model y = X beta + sigma eps."
   ]
  },
  {
   "cell_type": "code",
   "execution_count": 37,
   "metadata": {},
   "outputs": [],
   "source": [
    "def simulate_data(n, p, rng, *, sparsity=0.95, SNR=2.0, beta_scale=5.0):\n",
    "    \"\"\"Simulate data for Project 3, Part 1.\n",
    "\n",
    "    Parameters\n",
    "    ----------\n",
    "    n : int\n",
    "        Number of samples\n",
    "    p : int\n",
    "        Number of features\n",
    "    rng : numpy.random.Generator\n",
    "        Random number generator (e.g. from `numpy.random.default_rng`)\n",
    "    sparsity : float in (0, 1)\n",
    "        Percentage of zero elements in simulated regression coefficients\n",
    "    SNR : positive float\n",
    "        Signal-to-noise ratio (see explanation above)\n",
    "    beta_scale : float\n",
    "        Scaling for the coefficient to make sure they are large\n",
    "\n",
    "    Returns\n",
    "    -------\n",
    "    X : `n x p` numpy.array\n",
    "        Matrix of features\n",
    "    y : `n` numpy.array\n",
    "        Vector of responses\n",
    "    beta : `p` numpy.array\n",
    "        Vector of regression coefficients\n",
    "    \"\"\"\n",
    "    X = rng.standard_normal(size=(n, p))\n",
    "    \n",
    "    q = int(np.ceil((1.0 - sparsity) * p))\n",
    "    beta = np.zeros((p,), dtype=float)\n",
    "    beta[:q] = beta_scale * rng.standard_normal(size=(q,))\n",
    "    \n",
    "    sigma = np.sqrt(np.sum(np.square(X @ beta)) / (n - 1)) / SNR\n",
    "\n",
    "    y = X @ beta + sigma * rng.standard_normal(size=(n,))\n",
    "\n",
    "    # Shuffle columns so that non-zero features appear\n",
    "    # not simply in the first (1 - sparsity) * p columns\n",
    "    idx_col = rng.permutation(p)\n",
    "    \n",
    "    return X[:, idx_col], y, beta[idx_col]"
   ]
  },
  {
   "cell_type": "code",
   "execution_count": 38,
   "metadata": {},
   "outputs": [],
   "source": [
    "p = 500     # Fix p at something large, e.g. 500 or 1000\n",
    "n_list = [125, 250, 375]    # Let n vary compared to p, e.g. iterate through [200, 500, 750] if you set p = 1000. What truly matters here is the ratio p / n, so if you choose p differently, adjust your choices for n\n",
    "sparsities = [0.75, 0.9, 0.95, 0.99]    # Let sparsity vary for a few choices, e.g. [0.75, 0.9, 0.95, 0.99]\n",
    "SNR = 2     # You can fix SNR at something reasonable like 2 or 5 throughout\n",
    "beta_scale = 5      # Same holds for beta_scale, maybe 5 or 10\n",
    "rng = np.random.default_rng(12345)\n",
    "test_size = 500"
   ]
  },
  {
   "cell_type": "markdown",
   "metadata": {},
   "source": [
    "In addition, it will help you tremendously in the interpretation of the results if you **repeat the simulations a few times**, say 5 or 10 times, for each choice of n and sparsity. Here is why you should be careful with your choices: If you chose three values for n and four for sparsity, as well as 5 repeats, then you need to run your simulations for 60 datasets. A setup with 50 datasets took about 2 minutes on a 2017 MacBook, so if it takes hours, you did something wrong :-)\n",
    "\n",
    "It can be good to include intermediate print-outs/clock output throughout the code, e.g. for iteration numbers or cross-validation so you can detect if there is a time sink somewhere"
   ]
  },
  {
   "cell_type": "code",
   "execution_count": 39,
   "metadata": {},
   "outputs": [],
   "source": [
    "x, y, beta = simulate_data(n_list[0], p, rng)"
   ]
  },
  {
   "cell_type": "markdown",
   "metadata": {},
   "source": [
    "Fit Lasso model"
   ]
  },
  {
   "cell_type": "code",
   "execution_count": 40,
   "metadata": {},
   "outputs": [
    {
     "data": {
      "text/plain": [
       "0.8287512499203031"
      ]
     },
     "execution_count": 40,
     "metadata": {},
     "output_type": "execute_result"
    }
   ],
   "source": [
    "reg = LassoCV(cv=5, random_state=0).fit(x, y)\n",
    "alpha = reg.alpha_\n",
    "reg.score(x, y)"
   ]
  },
  {
   "cell_type": "code",
   "execution_count": 41,
   "metadata": {},
   "outputs": [
    {
     "data": {
      "text/plain": [
       "0.8287512499203031"
      ]
     },
     "execution_count": 41,
     "metadata": {},
     "output_type": "execute_result"
    }
   ],
   "source": [
    "reg_2 = Lasso(alpha=alpha).fit(x,y)\n",
    "reg_2.score(x, y)"
   ]
  },
  {
   "cell_type": "code",
   "execution_count": 42,
   "metadata": {},
   "outputs": [
    {
     "data": {
      "text/plain": [
       "(100, 5)"
      ]
     },
     "execution_count": 42,
     "metadata": {},
     "output_type": "execute_result"
    }
   ],
   "source": [
    "reg.mse_path_.shape"
   ]
  },
  {
   "cell_type": "markdown",
   "metadata": {},
   "source": [
    "2. Determine hyperparameters\n",
    "\n",
    "This works as described above the \"Tasks\" section. Depending on the the package you are using you will have to perform some different steps to get the coefficients and the predictions."
   ]
  },
  {
   "cell_type": "code",
   "execution_count": 46,
   "metadata": {},
   "outputs": [
    {
     "name": "stdout",
     "output_type": "stream",
     "text": [
      "alpha_min = 0.46395922689609137, alpha_1se = 0.9322021905241915\n",
      "Generation 0, n = 125, spar = 0.75, alpha_min = -0.49733374548201503, alpha_1se = -0.45899540503274694\n",
      "alpha_min = 5.982066251232351, alpha_1se = 7.374970872958226\n",
      "Generation 1, n = 125, spar = 0.75, alpha_min = -0.2636099311205029, alpha_1se = -0.20835203409307934\n",
      "alpha_min = 4.845634581150724, alpha_1se = 6.405643743253092\n",
      "Generation 2, n = 125, spar = 0.75, alpha_min = -0.23342504580417356, alpha_1se = -0.18868941679838946\n",
      "alpha_min = 3.5252725096603146, alpha_1se = 5.745315814884114\n",
      "Generation 3, n = 125, spar = 0.75, alpha_min = -0.3920703737993936, alpha_1se = -0.2457804208686163\n",
      "alpha_min = 3.7807252477880415, alpha_1se = 5.359080355864591\n",
      "Generation 4, n = 125, spar = 0.75, alpha_min = -0.41669195874909026, alpha_1se = -0.30962873106865496\n",
      "alpha_min = 0.6580644573214803, alpha_1se = 4.037822490053563\n",
      "Generation 0, n = 125, spar = 0.9, alpha_min = -0.488914871047589, alpha_1se = -0.1737944051913023\n",
      "alpha_min = 3.6190705260118343, alpha_1se = 5.129938964431696\n",
      "Generation 1, n = 125, spar = 0.9, alpha_min = -0.3492221213713995, alpha_1se = -0.23128530108253798\n",
      "alpha_min = 2.055597105118761, alpha_1se = 2.7173783979241413\n",
      "Generation 2, n = 125, spar = 0.9, alpha_min = -0.4710586749619239, alpha_1se = -0.38219170863277907\n",
      "alpha_min = 3.517648236077962, alpha_1se = 4.650123949100402\n",
      "Generation 3, n = 125, spar = 0.9, alpha_min = -0.1930103492221502, alpha_1se = -0.12657132034813157\n",
      "alpha_min = 2.7565308420301102, alpha_1se = 4.492458440456117\n",
      "Generation 4, n = 125, spar = 0.9, alpha_min = -0.2348946377691008, alpha_1se = -0.15084159579623702\n",
      "alpha_min = 2.4388479642197063, alpha_1se = 3.457003976588074\n",
      "Generation 0, n = 125, spar = 0.95, alpha_min = -0.3019441919833237, alpha_1se = -0.24549365296667292\n",
      "alpha_min = 1.3017597415477191, alpha_1se = 3.224558276969736\n",
      "Generation 1, n = 125, spar = 0.95, alpha_min = -0.5068208945681516, alpha_1se = -0.3170123097626507\n",
      "alpha_min = 2.174565112651883, alpha_1se = 2.874647102433189\n",
      "Generation 2, n = 125, spar = 0.95, alpha_min = -0.15016834369542664, alpha_1se = -0.11406444592723464\n",
      "alpha_min = 0.2888084137198033, alpha_1se = 0.5047009051365249\n",
      "Generation 3, n = 125, spar = 0.95, alpha_min = -0.5367979866260015, alpha_1se = -0.5065323544396243\n",
      "alpha_min = 2.1048044366733674, alpha_1se = 2.9835059069982064\n",
      "Generation 4, n = 125, spar = 0.95, alpha_min = -0.45411731088764573, alpha_1se = -0.3432801620717729\n",
      "alpha_min = 0.9801651265109205, alpha_1se = 1.2083933803338096\n",
      "Generation 0, n = 125, spar = 0.99, alpha_min = -0.4341277048979366, alpha_1se = -0.401478792903452\n",
      "alpha_min = 0.8373108190223202, alpha_1se = 1.1068756257213983\n",
      "Generation 1, n = 125, spar = 0.99, alpha_min = -0.4427122022198391, alpha_1se = -0.39538693848197126\n",
      "alpha_min = 0.6989674905419334, alpha_1se = 0.9907683585689763\n",
      "Generation 2, n = 125, spar = 0.99, alpha_min = -0.549297162038638, alpha_1se = -0.4751699238476661\n",
      "alpha_min = 0.7905579900780587, alpha_1se = 1.1205955252309936\n",
      "Generation 3, n = 125, spar = 0.99, alpha_min = -1.6089181387330553, alpha_1se = -1.4663765243935152\n",
      "alpha_min = 1.6274878108139441, alpha_1se = 1.8712154954078788\n",
      "Generation 4, n = 125, spar = 0.99, alpha_min = -2.020963416806329, alpha_1se = -1.9365803473622294\n",
      "alpha_min = 3.0317496318282275, alpha_1se = 4.940996492832882\n",
      "Generation 0, n = 250, spar = 0.75, alpha_min = -0.15041216394319812, alpha_1se = -0.08085975567206471\n",
      "alpha_min = 1.173907593435487, alpha_1se = 1.5518367522590997\n",
      "Generation 1, n = 250, spar = 0.75, alpha_min = -0.5268410776521095, alpha_1se = -0.4639807036028569\n",
      "alpha_min = 2.5305697307620307, alpha_1se = 3.119804641500759\n",
      "Generation 2, n = 250, spar = 0.75, alpha_min = -0.3831988771804933, alpha_1se = -0.3220727205707974\n",
      "alpha_min = 5.640259003847378, alpha_1se = 7.456090465191862\n",
      "Generation 3, n = 250, spar = 0.75, alpha_min = -0.21345046877380236, alpha_1se = -0.14183757969836752\n",
      "alpha_min = 3.191119652766453, alpha_1se = 4.850218127268647\n",
      "Generation 4, n = 250, spar = 0.75, alpha_min = -0.4030096922224291, alpha_1se = -0.24796637339910887\n",
      "alpha_min = 1.467172107564561, alpha_1se = 2.2299711468867915\n",
      "Generation 0, n = 250, spar = 0.9, alpha_min = -0.2083485956556772, alpha_1se = -0.14323872080449274\n",
      "alpha_min = 0.7735125593573476, alpha_1se = 1.1756703117705218\n",
      "Generation 1, n = 250, spar = 0.9, alpha_min = -0.4763492284850075, alpha_1se = -0.415481389081646\n",
      "alpha_min = 1.303411604981267, alpha_1se = 1.4986066107098017\n",
      "Generation 2, n = 250, spar = 0.9, alpha_min = -0.2631546425962603, alpha_1se = -0.23993031790286512\n",
      "alpha_min = 0.9386572739138409, alpha_1se = 1.157220559598257\n",
      "Generation 3, n = 250, spar = 0.9, alpha_min = -0.3029008843979317, alpha_1se = -0.27513923912298655\n",
      "alpha_min = 1.0080919009469707, alpha_1se = 1.2428228131404269\n",
      "Generation 4, n = 250, spar = 0.9, alpha_min = -0.5427756153091459, alpha_1se = -0.5070499430502102\n",
      "alpha_min = 1.235043103561929, alpha_1se = 1.5226188632967346\n",
      "Generation 0, n = 250, spar = 0.95, alpha_min = -1.3956655989810631, alpha_1se = -1.3009853252533667\n",
      "alpha_min = 1.2404549356816175, alpha_1se = 1.5292908228798998\n",
      "Generation 1, n = 250, spar = 0.95, alpha_min = -1.1452077270602183, alpha_1se = -1.0736349045340026\n",
      "alpha_min = 1.1865805020069393, alpha_1se = 1.462871902984785\n",
      "Generation 2, n = 250, spar = 0.95, alpha_min = -0.835533423087061, alpha_1se = -0.7751214909175521\n",
      "alpha_min = 1.5085684145663594, alpha_1se = 1.9942386624914314\n",
      "Generation 3, n = 250, spar = 0.95, alpha_min = -0.49624836454390997, alpha_1se = -0.3932058344540883\n",
      "alpha_min = 0.5125366380107932, alpha_1se = 0.8353070135717492\n",
      "Generation 4, n = 250, spar = 0.95, alpha_min = -0.39917994537149837, alpha_1se = -0.3447435195483082\n",
      "alpha_min = 0.44588381882878664, alpha_1se = 0.5894321675449449\n",
      "Generation 0, n = 250, spar = 0.99, alpha_min = -0.12817944854587915, alpha_1se = -0.1134935252493332\n",
      "alpha_min = 0.7093643128689822, alpha_1se = 0.8155965810066202\n",
      "Generation 1, n = 250, spar = 0.99, alpha_min = -0.4292771417930603, alpha_1se = -0.4130009287061285\n",
      "alpha_min = 0.5983713269245703, alpha_1se = 0.7377001393745789\n",
      "Generation 2, n = 250, spar = 0.99, alpha_min = -0.458205346916043, alpha_1se = -0.4338418012248877\n",
      "alpha_min = 0.5293316870053364, alpha_1se = 0.6086028100200702\n",
      "Generation 3, n = 250, spar = 0.99, alpha_min = -0.6435483251928298, alpha_1se = -0.6179954645377119\n",
      "alpha_min = 0.3258144142922399, alpha_1se = 0.3493601169040606\n",
      "Generation 4, n = 250, spar = 0.99, alpha_min = -0.1057685729332336, alpha_1se = -0.10505314621408313\n",
      "alpha_min = 1.7061600328979576, alpha_1se = 2.4184377644512023\n",
      "Generation 0, n = 375, spar = 0.75, alpha_min = -0.5772626846317686, alpha_1se = -0.47769302920490064\n",
      "alpha_min = 1.2180800717624076, alpha_1se = 1.501706044851642\n",
      "Generation 1, n = 375, spar = 0.75, alpha_min = -0.5033203128052632, alpha_1se = -0.4579707899076273\n",
      "alpha_min = 1.757088179274728, alpha_1se = 2.166220432731045\n",
      "Generation 2, n = 375, spar = 0.75, alpha_min = -0.2579441842538417, alpha_1se = -0.20979359788248164\n",
      "alpha_min = 1.0292310787870436, alpha_1se = 1.2688841796150467\n",
      "Generation 3, n = 375, spar = 0.75, alpha_min = -0.5766002771251253, alpha_1se = -0.5196632800426779\n",
      "alpha_min = 1.4028714547034524, alpha_1se = 1.9885340409496852\n",
      "Generation 4, n = 375, spar = 0.75, alpha_min = -0.4758731402919616, alpha_1se = -0.4042744273630685\n",
      "alpha_min = 1.3925179509574641, alpha_1se = 1.6010572553302653\n",
      "Generation 0, n = 375, spar = 0.9, alpha_min = -0.37733492728652585, alpha_1se = -0.3564326491510992\n",
      "alpha_min = 0.8531256246722968, alpha_1se = 1.1277818680650948\n",
      "Generation 1, n = 375, spar = 0.9, alpha_min = -0.5492109346997884, alpha_1se = -0.5018821815935395\n",
      "alpha_min = 1.2528436365883222, alpha_1se = 1.4404657353069619\n",
      "Generation 2, n = 375, spar = 0.9, alpha_min = -0.48025765337249027, alpha_1se = -0.446967771608511\n",
      "alpha_min = 0.8233134162502552, alpha_1se = 0.9466103597385391\n",
      "Generation 3, n = 375, spar = 0.9, alpha_min = -0.5172703556645657, alpha_1se = -0.48908615907482145\n",
      "alpha_min = 0.7358970270751313, alpha_1se = 0.9072482503946853\n",
      "Generation 4, n = 375, spar = 0.9, alpha_min = -0.414318660036173, alpha_1se = -0.3933038335927639\n",
      "alpha_min = 1.1018317286219537, alpha_1se = 1.4565567007508151\n",
      "Generation 0, n = 375, spar = 0.95, alpha_min = -0.7266568107371822, alpha_1se = -0.6632081747977832\n",
      "alpha_min = 0.8846308832280467, alpha_1se = 1.0906142999974524\n",
      "Generation 1, n = 375, spar = 0.95, alpha_min = -0.5351865912302933, alpha_1se = -0.48728766424787584\n",
      "alpha_min = 1.1358914473408153, alpha_1se = 1.4003800672142532\n",
      "Generation 2, n = 375, spar = 0.95, alpha_min = -0.6142604772174483, alpha_1se = -0.5613522028025262\n",
      "alpha_min = 1.0290716282814953, alpha_1se = 1.2686876015791793\n",
      "Generation 3, n = 375, spar = 0.95, alpha_min = -0.4856470892577802, alpha_1se = -0.45548403029786977\n",
      "alpha_min = 0.6866605640719549, alpha_1se = 0.9733236082727418\n",
      "Generation 4, n = 375, spar = 0.95, alpha_min = -0.7638597745892275, alpha_1se = -0.6844421840536152\n",
      "alpha_min = 0.7081609870390513, alpha_1se = 0.8730539638711694\n",
      "Generation 0, n = 375, spar = 0.99, alpha_min = -0.6935663594441757, alpha_1se = -0.6502654554328782\n",
      "alpha_min = 1.078870171022412, alpha_1se = 1.2404385262589697\n",
      "Generation 1, n = 375, spar = 0.99, alpha_min = -1.4908910570148084, alpha_1se = -1.4453892924819587\n",
      "alpha_min = 0.657021832397712, alpha_1se = 0.7045029750252267\n",
      "Generation 2, n = 375, spar = 0.99, alpha_min = -0.5555883359378049, alpha_1se = -0.5430091698776318\n",
      "alpha_min = 0.4148523610877576, alpha_1se = 0.4769794042179166\n",
      "Generation 3, n = 375, spar = 0.99, alpha_min = -0.42709163878571244, alpha_1se = -0.4106993914435846\n",
      "alpha_min = 0.5183154210233888, alpha_1se = 0.6390034768112265\n",
      "Generation 4, n = 375, spar = 0.99, alpha_min = -0.8618504905092959, alpha_1se = -0.8210062954608772\n"
     ]
    }
   ],
   "source": [
    "for n in n_list:\n",
    "    for sparsity in sparsities:\n",
    "        for i in range(5):\n",
    "            x, y, beta = simulate_data(n, p, rng, sparsity=sparsity)\n",
    "            lasso = LassoCV(cv=5).fit(x, y)\n",
    "            mse_mat = lasso.mse_path_\n",
    "            n_folds = mse_mat.shape[0]\n",
    "            cv_mean = np.mean(mse_mat, axis=1)\n",
    "            cv_std = np.std(mse_mat, axis=1)\n",
    "            idx_min_mean = np.argmin(cv_mean)\n",
    "            idx_alpha = np.where(\n",
    "                (cv_mean <= cv_mean[idx_min_mean] + cv_std[idx_min_mean] / np.sqrt(n_folds)) &\n",
    "                (cv_mean >= cv_mean[idx_min_mean])\n",
    "            )[0][0]\n",
    "            alpha_1se = lasso.alphas_[idx_alpha]\n",
    "            \n",
    "            x_test, y_test, _ = simulate_data(test_size, p, rng, sparsity=sparsity)\n",
    "\n",
    "            lasso_min = Lasso(alpha=lasso.alpha_).fit(x, y)\n",
    "            lasso_1se = Lasso(alpha=alpha_1se).fit(x, y)\n",
    "\n",
    "            test_min = lasso_min.score(x_test, y_test)\n",
    "            test_1se = lasso_1se.score(x_test, y_test)\n",
    "            print(f'alpha_min = {lasso.alpha_}, alpha_1se = {alpha_1se}')\n",
    "            print(f'Generation {i}, n = {n}, spar = {sparsity}, alpha_min = {test_min}, alpha_1se = {test_1se}')"
   ]
  },
  {
   "cell_type": "code",
   "execution_count": 32,
   "metadata": {},
   "outputs": [
    {
     "data": {
      "text/plain": [
       "5"
      ]
     },
     "execution_count": 32,
     "metadata": {},
     "output_type": "execute_result"
    }
   ],
   "source": [
    "reg.mse_path_.shape[1]"
   ]
  },
  {
   "cell_type": "markdown",
   "metadata": {},
   "source": [
    "### 3. Comparing the two Lasso models\n",
    "\n",
    "#### Computation of train/test MSE\n",
    "\n",
    "Whenever you use LassoCV or cv.glmnet you can, at the best, access the test error for each fold. To compute both the training and test MSE of the model, you have two options:\n",
    "\n",
    "1. Write your own cross validation loop. Then you can evaluate the training and test error and safe both.\n",
    "2. Instead of only creating a training dataset with the options given in Part 1, Task 1 you can do the following:\n",
    "    - Fix n_test at some larger value, say, n_test = 500 or n_test = 1000\n",
    "    - Instead of simulating n samples you generate now n + n_test and split the dataset. Train on the n samples with cross validation and use the remaining n_test samples for testing. You do not need to adapt the size of the test set to the size of the training dataset as long as you choose it large enough.\n",
    "Option 2 is probably less tedious to implement, but the choice is up to you.\n",
    "\n",
    "When reporting the results for the train/test MSE, **please do not simply report a table of numbers. Find a nice way to visualise the results.**\n",
    "\n",
    "#### Question\n",
    " - How does the MSE of the $λ_{min}$ and $λ_{1se}$ models behave for different n and sparsity levels?"
   ]
  },
  {
   "cell_type": "code",
   "execution_count": null,
   "metadata": {},
   "outputs": [],
   "source": []
  },
  {
   "cell_type": "markdown",
   "metadata": {},
   "source": [
    "### Evaluating the feature selection capability\n",
    "\n",
    "Compute sensitivity and specificity using the 0-1 codings of the true and estimated coefficient vectors and plot them in a scatter plot."
   ]
  },
  {
   "cell_type": "code",
   "execution_count": null,
   "metadata": {},
   "outputs": [],
   "source": []
  },
  {
   "cell_type": "markdown",
   "metadata": {},
   "source": [
    "\n",
    "#### Questions\n",
    "\n",
    " - What differences between sensitivity/specificity computed from the $λ_{min}$ and the $λ_{1se}$ models can you observe?\n",
    " - How do different choices for n and sparsity affect the relationship of sensitivity/specificity?"
   ]
  }
 ],
 "metadata": {
  "interpreter": {
   "hash": "a20783d42108fef31dde0a57614c05dbf2c147ed65f20fcc3e2fe997a3c36b6e"
  },
  "kernelspec": {
   "display_name": "Python 3.9.12 ('venv': venv)",
   "language": "python",
   "name": "python3"
  },
  "language_info": {
   "codemirror_mode": {
    "name": "ipython",
    "version": 3
   },
   "file_extension": ".py",
   "mimetype": "text/x-python",
   "name": "python",
   "nbconvert_exporter": "python",
   "pygments_lexer": "ipython3",
   "version": "3.9.12"
  },
  "orig_nbformat": 4
 },
 "nbformat": 4,
 "nbformat_minor": 2
}
