{
 "cells": [
  {
   "cell_type": "code",
   "execution_count": 23,
   "metadata": {},
   "outputs": [],
   "source": [
    "from sklearn.linear_model import LassoCV\n",
    "from sklearn.linear_model import Lasso\n",
    "import numpy as np"
   ]
  },
  {
   "cell_type": "markdown",
   "metadata": {},
   "source": [
    "### Part 1: Prediction quality vs feature selection\n",
    "\n",
    "#### Tasks\n",
    "\n",
    "In this taks you are supposed to\n",
    "\n",
    "1. repeatedly simulate new datasets and for each dataset do Steps 2 and 3 \n",
    "2.  determine λ_{min} and λ_{1se} using cross-validation on the training data\n",
    "\n",
    "3.  compare the two resulting Lasso models with respect to\n",
    "    - Mean squared error on the training as well as test data\n",
    "    - Feature selection quality in comparison to the original simulated regression coefficients\n"
   ]
  },
  {
   "cell_type": "markdown",
   "metadata": {},
   "source": [
    "Let us look a bit closer at each task.\n",
    "\n",
    "1. Simulate data\n",
    "Simulating useful data for the Lasso isn't complicated but to make sure you can focus on the interesting tasks I included a Python and a R version of a data-generating function. You can either ignore them and follow the description here, use them or take them as inspiration to write your own. The ideas are\n",
    "\n",
    "    1. Generate n observations from an isometric normal distribution $N(0,Ip)$, i.e. theoretically uncorrelated features.\n",
    "    2. Generate regression coefficients beta as a vector that contains ceiling((1 - sparsity) p) non-zero elements [ceiling = closest integer less or equal to] that are normal distributed with a standard deviation of beta_scale. All other elements are zero.\n",
    "    3. At this point Xβ is the noise-less response and √∥Xβ∥22/(n−1) is its sample standard deviation. Signal-to-noise ratio is a measure for the proportion of the signal (noise-less response) standard deviation to the standard deviation of the noise, i.e. SNR = sd_signal / sd_noise. Specifying the SNR is a convenient way to determine what standard deviation for the noise is reasonable by choosing sd_noise = sd_signal / SNR. As an example, SNR = 2 means that the standard deviation of the noise-less is twice as large as the standard deviation of the noise and the noise-less response will be more \"pronounced\" the larger the SNR is. If 0 <= SNR < 1, then the noise is stronger than the signal which is hard to deal with for most methods.\n",
    "    4. Finally, the response is created in the form of a linear model y = X beta + sigma eps."
   ]
  },
  {
   "cell_type": "code",
   "execution_count": 1,
   "metadata": {},
   "outputs": [],
   "source": [
    "def simulate_data(n, p, rng, *, sparsity=0.95, SNR=2.0, beta_scale=5.0):\n",
    "    \"\"\"Simulate data for Project 3, Part 1.\n",
    "\n",
    "    Parameters\n",
    "    ----------\n",
    "    n : int\n",
    "        Number of samples\n",
    "    p : int\n",
    "        Number of features\n",
    "    rng : numpy.random.Generator\n",
    "        Random number generator (e.g. from `numpy.random.default_rng`)\n",
    "    sparsity : float in (0, 1)\n",
    "        Percentage of zero elements in simulated regression coefficients\n",
    "    SNR : positive float\n",
    "        Signal-to-noise ratio (see explanation above)\n",
    "    beta_scale : float\n",
    "        Scaling for the coefficient to make sure they are large\n",
    "\n",
    "    Returns\n",
    "    -------\n",
    "    X : `n x p` numpy.array\n",
    "        Matrix of features\n",
    "    y : `n` numpy.array\n",
    "        Vector of responses\n",
    "    beta : `p` numpy.array\n",
    "        Vector of regression coefficients\n",
    "    \"\"\"\n",
    "    X = rng.standard_normal(size=(n, p))\n",
    "    \n",
    "    q = int(np.ceil((1.0 - sparsity) * p))\n",
    "    beta = np.zeros((p,), dtype=float)\n",
    "    beta[:q] = beta_scale * rng.standard_normal(size=(q,))\n",
    "    \n",
    "    sigma = np.sqrt(np.sum(np.square(X @ beta)) / (n - 1)) / SNR\n",
    "\n",
    "    y = X @ beta + sigma * rng.standard_normal(size=(n,))\n",
    "\n",
    "    # Shuffle columns so that non-zero features appear\n",
    "    # not simply in the first (1 - sparsity) * p columns\n",
    "    idx_col = rng.permutation(p)\n",
    "    \n",
    "    return X[:, idx_col], y, beta[idx_col]"
   ]
  },
  {
   "cell_type": "code",
   "execution_count": 5,
   "metadata": {},
   "outputs": [],
   "source": [
    "p = 500     # Fix p at something large, e.g. 500 or 1000\n",
    "n_list = [125, 250, 375]    # Let n vary compared to p, e.g. iterate through [200, 500, 750] if you set p = 1000. What truly matters here is the ratio p / n, so if you choose p differently, adjust your choices for n\n",
    "sparsities = [0.75, 0.9, 0.95, 0.99]    # Let sparsity vary for a few choices, e.g. [0.75, 0.9, 0.95, 0.99]\n",
    "SNR = 2     # You can fix SNR at something reasonable like 2 or 5 throughout\n",
    "beta_scale = 5      # Same holds for beta_scale, maybe 5 or 10\n",
    "rng = np.random.default_rng(12345)"
   ]
  },
  {
   "cell_type": "markdown",
   "metadata": {},
   "source": [
    "In addition, it will help you tremendously in the interpretation of the results if you **repeat the simulations a few times**, say 5 or 10 times, for each choice of n and sparsity. Here is why you should be careful with your choices: If you chose three values for n and four for sparsity, as well as 5 repeats, then you need to run your simulations for 60 datasets. A setup with 50 datasets took about 2 minutes on a 2017 MacBook, so if it takes hours, you did something wrong :-)\n",
    "\n",
    "It can be good to include intermediate print-outs/clock output throughout the code, e.g. for iteration numbers or cross-validation so you can detect if there is a time sink somewhere"
   ]
  },
  {
   "cell_type": "code",
   "execution_count": 6,
   "metadata": {},
   "outputs": [],
   "source": [
    "x, y, beta = simulate_data(n_list[0], p, rng)"
   ]
  },
  {
   "cell_type": "markdown",
   "metadata": {},
   "source": [
    "Fit Lasso model"
   ]
  },
  {
   "cell_type": "code",
   "execution_count": 24,
   "metadata": {},
   "outputs": [
    {
     "data": {
      "text/plain": [
       "0.8287512499203031"
      ]
     },
     "execution_count": 24,
     "metadata": {},
     "output_type": "execute_result"
    }
   ],
   "source": [
    "reg = LassoCV(cv=5, random_state=0).fit(x, y)\n",
    "alpha = reg.alpha_\n",
    "reg.score(x, y)"
   ]
  },
  {
   "cell_type": "code",
   "execution_count": 25,
   "metadata": {},
   "outputs": [
    {
     "data": {
      "text/plain": [
       "0.8287512499203031"
      ]
     },
     "execution_count": 25,
     "metadata": {},
     "output_type": "execute_result"
    }
   ],
   "source": [
    "reg_2 = Lasso(alpha=alpha).fit(x,y)\n",
    "reg_2.score(x, y)"
   ]
  },
  {
   "cell_type": "code",
   "execution_count": 29,
   "metadata": {},
   "outputs": [
    {
     "data": {
      "text/plain": [
       "(100, 5)"
      ]
     },
     "execution_count": 29,
     "metadata": {},
     "output_type": "execute_result"
    }
   ],
   "source": [
    "reg.mse_path_.shape"
   ]
  },
  {
   "cell_type": "markdown",
   "metadata": {},
   "source": [
    "2. Determine hyperparameters\n",
    "\n",
    "This works as described above the \"Tasks\" section. Depending on the the package you are using you will have to perform some different steps to get the coefficients and the predictions."
   ]
  },
  {
   "cell_type": "code",
   "execution_count": 35,
   "metadata": {},
   "outputs": [
    {
     "name": "stdout",
     "output_type": "stream",
     "text": [
      "18.353062451629622\n",
      "5.139788486001865\n",
      "12.06223873235232\n",
      "17.326921086185948\n",
      "9.508780494760778\n"
     ]
    },
    {
     "name": "stderr",
     "output_type": "stream",
     "text": [
      "/Users/joel/Documents/Chalmers/big_data/BigData/venv/lib/python3.9/site-packages/sklearn/linear_model/_coordinate_descent.py:648: ConvergenceWarning: Objective did not converge. You might want to increase the number of iterations, check the scale of the features or consider increasing regularisation. Duality gap: 5.331e+01, tolerance: 1.557e+01\n",
      "  model = cd_fast.enet_coordinate_descent(\n"
     ]
    },
    {
     "name": "stdout",
     "output_type": "stream",
     "text": [
      "0.8267976281854438\n",
      "7.728266067918628\n",
      "4.83001525489394\n",
      "5.090721268160899\n",
      "4.693645444385434\n",
      "3.0514319729697945\n",
      "1.6227571119733506\n",
      "2.001538321385703\n",
      "2.1619311645365027\n",
      "2.4768617346313224\n",
      "0.6394101214816575\n",
      "1.0483069179916713\n",
      "0.9623616530958939\n",
      "2.252892618247509\n",
      "0.6497972730563818\n",
      "4.577106124956507\n",
      "2.814185363418539\n",
      "1.3144195103755056\n",
      "2.7526604994193375\n",
      "2.7579065531421394\n",
      "1.1101200659603419\n",
      "0.7925061166283143\n",
      "1.515793198399503\n",
      "1.2427436801164866\n",
      "1.2117359317584835\n",
      "0.9941215700893394\n",
      "1.8870060031203246\n",
      "1.1351080888531082\n",
      "1.113164522798268\n",
      "1.446334541084723\n",
      "1.1030629901424638\n",
      "0.59598785003202\n",
      "1.142975765842397\n",
      "0.6944383614698008\n",
      "0.3360408610048986\n",
      "2.749891434335902\n",
      "1.5282160160814768\n",
      "1.4115367466829198\n",
      "2.1812572413727382\n",
      "1.8747849365929767\n",
      "1.1595325465831043\n",
      "1.7876753645851524\n",
      "1.178266474699407\n",
      "1.431771442840113\n",
      "1.6192093463178945\n",
      "0.9480861545921689\n",
      "0.6685734234885774\n",
      "0.7195705770438166\n",
      "0.9436170730813805\n",
      "1.3225430701449512\n",
      "0.6086042634513806\n",
      "1.0217217617376295\n",
      "0.8756205805707828\n",
      "0.7585424967889187\n",
      "0.5296278386998028\n"
     ]
    }
   ],
   "source": [
    "for n in n_list:\n",
    "    for sparsity in sparsities:\n",
    "        for i in range(5):\n",
    "            x, y, beta = simulate_data(n, p, rng, sparsity=sparsity)\n",
    "            lasso = LassoCV(cv=5).fit(x, y)\n",
    "            mse_mat = lasso.mse_path_\n",
    "            n_folds = mse_mat.shape[0]\n",
    "            cv_mean = np.mean(mse_mat, axis=1)\n",
    "            cv_std = np.std(mse_mat, axis=1)\n",
    "            idx_min_mean = np.argmin(cv_mean)\n",
    "            idx_alpha = np.where(\n",
    "                (cv_mean <= cv_mean[idx_min_mean] + cv_std[idx_min_mean] / np.sqrt(n_folds)) &\n",
    "                (cv_mean >= cv_mean[idx_min_mean])\n",
    "            )[0][0]\n",
    "            alpha_1se = lasso.alphas_[idx_alpha]\n",
    "            print(alpha_1se)"
   ]
  },
  {
   "cell_type": "code",
   "execution_count": 32,
   "metadata": {},
   "outputs": [
    {
     "data": {
      "text/plain": [
       "5"
      ]
     },
     "execution_count": 32,
     "metadata": {},
     "output_type": "execute_result"
    }
   ],
   "source": [
    "reg.mse_path_.shape[1]"
   ]
  },
  {
   "cell_type": "markdown",
   "metadata": {},
   "source": [
    "### 3. Comparing the two Lasso models\n",
    "\n",
    "#### Computation of train/test MSE\n",
    "\n",
    "Whenever you use LassoCV or cv.glmnet you can, at the best, access the test error for each fold. To compute both the training and test MSE of the model, you have two options:\n",
    "\n",
    "1. Write your own cross validation loop. Then you can evaluate the training and test error and safe both.\n",
    "2. Instead of only creating a training dataset with the options given in Part 1, Task 1 you can do the following:\n",
    "    - Fix n_test at some larger value, say, n_test = 500 or n_test = 1000\n",
    "    - Instead of simulating n samples you generate now n + n_test and split the dataset. Train on the n samples with cross validation and use the remaining n_test samples for testing. You do not need to adapt the size of the test set to the size of the training dataset as long as you choose it large enough.\n",
    "Option 2 is probably less tedious to implement, but the choice is up to you.\n",
    "\n",
    "When reporting the results for the train/test MSE, **please do not simply report a table of numbers. Find a nice way to visualise the results.**\n",
    "\n",
    "#### Question\n",
    " - How does the MSE of the $λ_{min}$ and $λ_{1se}$ models behave for different n and sparsity levels?"
   ]
  },
  {
   "cell_type": "code",
   "execution_count": null,
   "metadata": {},
   "outputs": [],
   "source": []
  },
  {
   "cell_type": "markdown",
   "metadata": {},
   "source": [
    "### Evaluating the feature selection capability\n",
    "\n",
    "Compute sensitivity and specificity using the 0-1 codings of the true and estimated coefficient vectors and plot them in a scatter plot."
   ]
  },
  {
   "cell_type": "code",
   "execution_count": null,
   "metadata": {},
   "outputs": [],
   "source": []
  },
  {
   "cell_type": "markdown",
   "metadata": {},
   "source": [
    "\n",
    "#### Questions\n",
    "\n",
    " - What differences between sensitivity/specificity computed from the $λ_{min}$ and the $λ_{1se}$ models can you observe?\n",
    " - How do different choices for n and sparsity affect the relationship of sensitivity/specificity?"
   ]
  }
 ],
 "metadata": {
  "interpreter": {
   "hash": "a20783d42108fef31dde0a57614c05dbf2c147ed65f20fcc3e2fe997a3c36b6e"
  },
  "kernelspec": {
   "display_name": "Python 3.9.12 ('venv': venv)",
   "language": "python",
   "name": "python3"
  },
  "language_info": {
   "codemirror_mode": {
    "name": "ipython",
    "version": 3
   },
   "file_extension": ".py",
   "mimetype": "text/x-python",
   "name": "python",
   "nbconvert_exporter": "python",
   "pygments_lexer": "ipython3",
   "version": "3.9.12"
  },
  "orig_nbformat": 4
 },
 "nbformat": 4,
 "nbformat_minor": 2
}
