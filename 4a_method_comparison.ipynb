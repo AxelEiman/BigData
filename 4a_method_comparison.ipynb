{
 "cells": [
  {
   "cell_type": "code",
   "execution_count": null,
   "metadata": {},
   "outputs": [],
   "source": [
    "M = 30\n",
    "ps = np.linspace(0, 0.5, 48)\n",
    "qdas_2 = np.zeros(len(ps))\n",
    "rfcs_2 = np.zeros(len(ps))\n",
    "qdas_3 = np.zeros(len(ps))\n",
    "rfcs_3 = np.zeros(len(ps))\n",
    "\n",
    "# Mean over 30 loops\n",
    "X_train, X_test, y_train, y_test = train_test_split(X, y, stratify=y, test_size=0.25, train_size=0.75)\n",
    "for j in range(M):\n",
    "    # loop for 48 p values\n",
    "    for k, p in enumerate(ps):            \n",
    "        # no mislabeled training data\n",
    "        qda_2 = QuadraticDiscriminantAnalysis()\n",
    "        rfc_2 = RandomForestClassifier(random_state=0)\n",
    "        qda_2.fit(X_train, y_train)\n",
    "        rfc_2.fit(X_train, y_train)\n",
    "        qda_2_acc = qda_2.score(X_test, y_test)\n",
    "        rfc_2_acc = rfc_2.score(X_test, y_test)\n",
    "        qda_2_pred = qda_2.predict(X_test)\n",
    "        rfc_2_pred = rfc_2.predict(X_test)\n",
    "        qda_2_recall = recall_score(y_test, qda_2_pred)\n",
    "        rfc_2_recall = recall_score(y_test, rfc_2_pred)\n",
    "\n",
    "        # mislabel p percent of the training data\n",
    "        pos = np.random.randint((len(y_train)-1), size = int(np.round(p*len(y_train))))\n",
    "        y_train_flipped = y_train.copy()\n",
    "        y_train_flipped[pos] -= 1\n",
    "        y_train_flipped[pos] *= -1\n",
    "        qda_3 = QuadraticDiscriminantAnalysis()\n",
    "        rfc_3 = RandomForestClassifier()\n",
    "        qda_3.fit(X_train, y_train_flipped)\n",
    "        rfc_3.fit(X_train, y_train_flipped)\n",
    "        qda_3_acc = qda_3.score(X_test, y_test)\n",
    "        rfc_3_acc = rfc_3.score(X_test, y_test)\n",
    "        qda_3_pred = qda_3.predict(X_test)\n",
    "        rfc_3_pred = rfc_3.predict(X_test)\n",
    "        qda_3_recall = recall_score(y_test, qda_3_pred)\n",
    "        rfc_3_recall = recall_score(y_test, rfc_3_pred)\n",
    "        \n",
    "        qdas_2[k] += qda_2_recall\n",
    "        qdas_3[k] += qda_3_recall\n",
    "        rfcs_2[k] += rfc_2_recall\n",
    "        rfcs_3[k] += rfc_3_recall\n",
    "\n",
    "plt.plot(ps*100, (qdas_3/(j+1))*100, 'b-')\n",
    "plt.plot(ps*100, (rfcs_3/(j+1))*100, 'y-')\n",
    "\n",
    "plt.xlabel('Mislabeled percentage p of the data [%]')\n",
    "plt.ylabel('Recall [%]')\n",
    "plt.title('Recall as a function of misplaced data p')\n",
    "plt.legend(['QDA', 'RFC'])\n",
    "\n",
    "#plt.savefig('methhod_comparison.png')\n",
    "plt.show()"
   ]
  }
 ],
 "metadata": {
  "kernelspec": {
   "display_name": "Python 3",
   "language": "python",
   "name": "python3"
  },
  "language_info": {
   "codemirror_mode": {
    "name": "ipython",
    "version": 3
   },
   "file_extension": ".py",
   "mimetype": "text/x-python",
   "name": "python",
   "nbconvert_exporter": "python",
   "pygments_lexer": "ipython3",
   "version": "3.8.5"
  }
 },
 "nbformat": 4,
 "nbformat_minor": 4
}
